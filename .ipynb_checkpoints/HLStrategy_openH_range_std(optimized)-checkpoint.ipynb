{
 "cells": [
  {
   "cell_type": "code",
   "execution_count": 1,
   "metadata": {
    "ExecuteTime": {
     "end_time": "2019-05-28T04:28:26.331021Z",
     "start_time": "2019-05-28T04:28:25.519164Z"
    },
    "collapsed": true
   },
   "outputs": [],
   "source": [
    "from KRData.HKData import HKFuture\n",
    "import pandas as pd"
   ]
  },
  {
   "cell_type": "code",
   "execution_count": 2,
   "metadata": {
    "ExecuteTime": {
     "end_time": "2019-05-28T04:28:26.362542Z",
     "start_time": "2019-05-28T04:28:26.331978Z"
    },
    "collapsed": true
   },
   "outputs": [],
   "source": [
    "import datetime as dt\n",
    "import talib"
   ]
  },
  {
   "cell_type": "code",
   "execution_count": 3,
   "metadata": {
    "ExecuteTime": {
     "end_time": "2019-05-28T04:28:26.947735Z",
     "start_time": "2019-05-28T04:28:26.893741Z"
    },
    "collapsed": true
   },
   "outputs": [],
   "source": [
    "hf = HKFuture('krdata', 'kairuitouzi')"
   ]
  },
  {
   "cell_type": "code",
   "execution_count": 4,
   "metadata": {
    "ExecuteTime": {
     "end_time": "2019-05-28T04:28:32.376782Z",
     "start_time": "2019-05-28T04:28:27.446751Z"
    },
    "collapsed": true
   },
   "outputs": [],
   "source": [
    "trade_dates = hf.get_main_contract_trade_dates('HSI', '20110101', '20190401')"
   ]
  },
  {
   "cell_type": "code",
   "execution_count": 6,
   "metadata": {
    "ExecuteTime": {
     "end_time": "2019-05-28T04:28:41.266176Z",
     "start_time": "2019-05-28T04:28:41.255173Z"
    },
    "collapsed": true
   },
   "outputs": [],
   "source": [
    "def HLStrategy(df):\n",
    "    _open=[]\n",
    "    _close=[]\n",
    "    _type = ''\n",
    "    _openH = 0\n",
    "    _range = 0\n",
    "    _std = 0\n",
    "    \n",
    "    df = df.between_time('9:15', '16:30')\n",
    "    if len(df)<60:\n",
    "        return _open, _close, _type, _openH, _range, 0, 0, 0, 0\n",
    "    \n",
    "    _openH = df.iloc[0]['open'] - df.iloc[0]['last_close']\n",
    "    df = df.iloc[6:]\n",
    "    open_time = df.iloc[0]['datetime']\n",
    "    first_hour: pd.DataFrame = df.iloc[:60]\n",
    "    rest_trading = df.iloc[61:]\n",
    "    upPrice = first_hour.close.max()\n",
    "    upPrice_time = first_hour.close.idxmax()\n",
    "    downPrice = first_hour.close.min()\n",
    "    downPrice_time = first_hour.close.idxmin()\n",
    "    _std = first_hour.iloc[-1].std_60\n",
    "    HT = (upPrice_time - open_time).total_seconds() // 60\n",
    "    LT = (downPrice_time - open_time).total_seconds() // 60\n",
    "    _range = upPrice - downPrice\n",
    "    if upPrice_time > downPrice_time:\n",
    "        _type = 'LH'\n",
    "    else:\n",
    "        _type = 'HL'\n",
    "    \n",
    "    fix_stoploss = (upPrice - downPrice) * 5 / 12\n",
    "    \n",
    "    if fix_stoploss < 40:\n",
    "        fix_stoploss = 40\n",
    "    elif fix_stoploss > 220:\n",
    "        fix_stoploss = 220\n",
    "    \n",
    "    pos = 0\n",
    "    TH = rest_trading.iloc[0]['close']\n",
    "    TL = rest_trading.iloc[0]['close']\n",
    "    \n",
    "\n",
    "    for d, bar in rest_trading.iterrows():\n",
    "        if pos == 0:\n",
    "            if bar.close > upPrice:\n",
    "                _open = [bar.datetime, 'Long', bar.close]\n",
    "                _type = 'LHL' if _type=='LH' else 'HLL'\n",
    "                pos += 1\n",
    "            elif bar.close < downPrice:\n",
    "                _open = [bar.datetime, 'Short', bar.close]\n",
    "                _type = 'LHS' if _type=='LH' else 'HLS'\n",
    "                pos -= 1\n",
    "        else:\n",
    "            if pos > 0:\n",
    "                if TH - bar.close > fix_stoploss + bar.std_5 :\n",
    "                    _close = [bar.datetime, 'Short', bar.close]\n",
    "                    pos -= 1\n",
    "                    break\n",
    "            elif pos  < 0:\n",
    "                if bar.close - TL > fix_stoploss + bar.std_5 :\n",
    "                    _close = [bar.datetime, 'Long', bar.close]\n",
    "                    pos += 1\n",
    "                    break\n",
    "        TH = max(bar.close, TH)\n",
    "        TL = min(bar.close, TL)\n",
    "    else:\n",
    "        if pos > 0:\n",
    "            _close = [bar.datetime, 'Short', bar.close]\n",
    "            pos -= 1\n",
    "        elif pos < 0:\n",
    "            _close = [bar.datetime, 'Long', bar.close]\n",
    "            pos += 1\n",
    "\n",
    "    \n",
    "    return _open, _close, _type, _openH, _range, HT, LT, _std\n",
    "    \n",
    "    "
   ]
  },
  {
   "cell_type": "code",
   "execution_count": 9,
   "metadata": {
    "ExecuteTime": {
     "end_time": "2019-05-28T04:32:08.186661Z",
     "start_time": "2019-05-28T04:30:50.486774Z"
    },
    "scrolled": true
   },
   "outputs": [
    {
     "name": "stdout",
     "output_type": "stream",
     "text": [
      "BacktestHSI1101- From:2011-01-03 00:00:00 To:2011-01-28 00:00:00\n",
      "BacktestHSI1102- From:2011-01-31 00:00:00 To:2011-02-25 00:00:00\n",
      "BacktestHSI1103- From:2011-02-28 00:00:00 To:2011-03-30 00:00:00\n",
      "BacktestHSI1104- From:2011-03-31 00:00:00 To:2011-04-28 00:00:00\n",
      "BacktestHSI1105- From:2011-04-29 00:00:00 To:2011-05-30 00:00:00\n",
      "BacktestHSI1106- From:2011-05-31 00:00:00 To:2011-06-29 00:00:00\n",
      "BacktestHSI1107- From:2011-06-30 00:00:00 To:2011-07-28 00:00:00\n",
      "BacktestHSI1108- From:2011-07-29 00:00:00 To:2011-08-30 00:00:00\n",
      "BacktestHSI1109- From:2011-08-31 00:00:00 To:2011-09-30 00:00:00\n",
      "BacktestHSI1110- From:2011-10-03 00:00:00 To:2011-10-28 00:00:00\n",
      "BacktestHSI1111- From:2011-10-31 00:00:00 To:2011-11-29 00:00:00\n",
      "BacktestHSI1112- From:2011-11-30 00:00:00 To:2011-12-29 00:00:00\n",
      "BacktestHSI1201- From:2011-12-30 00:00:00 To:2012-01-30 00:00:00\n",
      "BacktestHSI1202- From:2012-01-31 00:00:00 To:2012-02-28 00:00:00\n",
      "BacktestHSI1203- From:2012-02-29 00:00:00 To:2012-03-29 00:00:00\n",
      "BacktestHSI1204- From:2012-03-30 00:00:00 To:2012-04-27 00:00:00\n",
      "BacktestHSI1205- From:2012-04-30 00:00:00 To:2012-05-30 00:00:00\n",
      "BacktestHSI1206- From:2012-05-31 00:00:00 To:2012-06-28 00:00:00\n",
      "BacktestHSI1207- From:2012-06-29 00:00:00 To:2012-07-30 00:00:00\n",
      "BacktestHSI1208- From:2012-07-31 00:00:00 To:2012-08-30 00:00:00\n",
      "BacktestHSI1209- From:2012-08-31 00:00:00 To:2012-09-27 00:00:00\n",
      "BacktestHSI1210- From:2012-09-28 00:00:00 To:2012-10-30 00:00:00\n",
      "BacktestHSI1211- From:2012-10-31 00:00:00 To:2012-11-29 00:00:00\n",
      "BacktestHSI1212- From:2012-11-30 00:00:00 To:2012-12-28 00:00:00\n",
      "BacktestHSI1301- From:2012-12-31 00:00:00 To:2013-01-30 00:00:00\n",
      "BacktestHSI1302- From:2013-01-31 00:00:00 To:2013-02-27 00:00:00\n",
      "BacktestHSI1303- From:2013-02-28 00:00:00 To:2013-03-27 00:00:00\n",
      "BacktestHSI1304- From:2013-03-28 00:00:00 To:2013-04-29 00:00:00\n",
      "BacktestHSI1305- From:2013-04-30 00:00:00 To:2013-05-30 00:00:00\n",
      "BacktestHSI1306- From:2013-05-31 00:00:00 To:2013-06-27 00:00:00\n",
      "BacktestHSI1307- From:2013-06-28 00:00:00 To:2013-07-30 00:00:00\n",
      "BacktestHSI1308- From:2013-07-31 00:00:00 To:2013-08-29 00:00:00\n",
      "BacktestHSI1309- From:2013-08-30 00:00:00 To:2013-09-27 00:00:00\n",
      "BacktestHSI1310- From:2013-09-30 00:00:00 To:2013-10-30 00:00:00\n",
      "BacktestHSI1311- From:2013-10-31 00:00:00 To:2013-11-28 00:00:00\n",
      "BacktestHSI1312- From:2013-11-29 00:00:00 To:2013-12-30 00:00:00\n",
      "BacktestHSI1401- From:2013-12-31 00:00:00 To:2014-01-29 00:00:00\n",
      "BacktestHSI1402- From:2014-01-30 00:00:00 To:2014-02-27 00:00:00\n",
      "BacktestHSI1403- From:2014-02-28 00:00:00 To:2014-03-28 00:00:00\n",
      "BacktestHSI1404- From:2014-03-31 00:00:00 To:2014-04-29 00:00:00\n",
      "BacktestHSI1405- From:2014-04-30 00:00:00 To:2014-05-29 00:00:00\n",
      "BacktestHSI1406- From:2014-05-30 00:00:00 To:2014-06-27 00:00:00\n",
      "BacktestHSI1407- From:2014-06-30 00:00:00 To:2014-07-30 00:00:00\n",
      "BacktestHSI1408- From:2014-07-31 00:00:00 To:2014-08-28 00:00:00\n",
      "BacktestHSI1409- From:2014-08-29 00:00:00 To:2014-09-29 00:00:00\n",
      "BacktestHSI1410- From:2014-09-30 00:00:00 To:2014-10-30 00:00:00\n",
      "BacktestHSI1411- From:2014-10-31 00:00:00 To:2014-11-27 00:00:00\n",
      "BacktestHSI1412- From:2014-11-28 00:00:00 To:2014-12-30 00:00:00\n",
      "BacktestHSI1501- From:2014-12-31 00:00:00 To:2015-01-29 00:00:00\n",
      "BacktestHSI1502- From:2015-01-30 00:00:00 To:2015-02-26 00:00:00\n",
      "BacktestHSI1503- From:2015-02-27 00:00:00 To:2015-03-30 00:00:00\n",
      "BacktestHSI1504- From:2015-03-31 00:00:00 To:2015-04-29 00:00:00\n",
      "BacktestHSI1505- From:2015-04-30 00:00:00 To:2015-05-28 00:00:00\n",
      "BacktestHSI1506- From:2015-05-29 00:00:00 To:2015-06-29 00:00:00\n",
      "BacktestHSI1507- From:2015-06-30 00:00:00 To:2015-07-30 00:00:00\n",
      "BacktestHSI1508- From:2015-07-31 00:00:00 To:2015-08-28 00:00:00\n",
      "BacktestHSI1509- From:2015-08-31 00:00:00 To:2015-09-29 00:00:00\n",
      "BacktestHSI1510- From:2015-09-30 00:00:00 To:2015-10-29 00:00:00\n",
      "BacktestHSI1511- From:2015-10-30 00:00:00 To:2015-11-27 00:00:00\n",
      "BacktestHSI1512- From:2015-11-30 00:00:00 To:2015-12-30 00:00:00\n",
      "BacktestHSI1601- From:2015-12-31 00:00:00 To:2016-01-28 00:00:00\n",
      "BacktestHSI1602- From:2016-01-29 00:00:00 To:2016-02-26 00:00:00\n",
      "BacktestHSI1603- From:2016-02-29 00:00:00 To:2016-03-30 00:00:00\n",
      "BacktestHSI1604- From:2016-03-31 00:00:00 To:2016-04-28 00:00:00\n",
      "BacktestHSI1605- From:2016-04-29 00:00:00 To:2016-05-30 00:00:00\n",
      "BacktestHSI1606- From:2016-05-31 00:00:00 To:2016-06-29 00:00:00\n",
      "BacktestHSI1607- From:2016-06-30 00:00:00 To:2016-07-28 00:00:00\n",
      "BacktestHSI1608- From:2016-07-29 00:00:00 To:2016-08-30 00:00:00\n",
      "BacktestHSI1609- From:2016-08-31 00:00:00 To:2016-09-29 00:00:00\n",
      "BacktestHSI1610- From:2016-09-30 00:00:00 To:2016-10-28 00:00:00\n",
      "BacktestHSI1611- From:2016-10-31 00:00:00 To:2016-11-29 00:00:00\n",
      "BacktestHSI1612- From:2016-11-30 00:00:00 To:2016-12-29 00:00:00\n",
      "BacktestHSI1701- From:2016-12-30 00:00:00 To:2017-01-26 00:00:00\n",
      "BacktestHSI1702- From:2017-01-27 00:00:00 To:2017-02-27 00:00:00\n",
      "BacktestHSI1703- From:2017-02-28 00:00:00 To:2017-03-30 00:00:00\n",
      "BacktestHSI1704- From:2017-03-31 00:00:00 To:2017-04-27 00:00:00\n",
      "BacktestHSI1705- From:2017-04-28 00:00:00 To:2017-05-29 00:00:00\n",
      "BacktestHSI1706- From:2017-05-31 00:00:00 To:2017-06-29 00:00:00\n",
      "BacktestHSI1707- From:2017-06-30 00:00:00 To:2017-07-28 00:00:00\n",
      "BacktestHSI1708- From:2017-07-31 00:00:00 To:2017-08-30 00:00:00\n",
      "BacktestHSI1709- From:2017-08-31 00:00:00 To:2017-09-28 00:00:00\n",
      "BacktestHSI1710- From:2017-09-29 00:00:00 To:2017-10-30 00:00:00\n",
      "BacktestHSI1711- From:2017-10-31 00:00:00 To:2017-11-29 00:00:00\n",
      "BacktestHSI1712- From:2017-11-30 00:00:00 To:2017-12-28 00:00:00\n",
      "BacktestHSI1801- From:2017-12-29 00:00:00 To:2018-01-30 00:00:00\n",
      "BacktestHSI1802- From:2018-01-31 00:00:00 To:2018-02-27 00:00:00\n",
      "BacktestHSI1803- From:2018-02-28 00:00:00 To:2018-03-28 00:00:00\n",
      "BacktestHSI1804- From:2018-03-29 00:00:00 To:2018-04-27 00:00:00\n",
      "BacktestHSI1805- From:2018-04-30 00:00:00 To:2018-05-30 00:00:00\n",
      "BacktestHSI1806- From:2018-05-31 00:00:00 To:2018-06-28 00:00:00\n",
      "BacktestHSI1807- From:2018-06-29 00:00:00 To:2018-07-30 00:00:00\n",
      "BacktestHSI1808- From:2018-07-31 00:00:00 To:2018-08-30 00:00:00\n",
      "BacktestHSI1809- From:2018-08-31 00:00:00 To:2018-09-27 00:00:00\n",
      "BacktestHSI1810- From:2018-09-28 00:00:00 To:2018-10-30 00:00:00\n",
      "BacktestHSI1811- From:2018-10-31 00:00:00 To:2018-11-29 00:00:00\n",
      "BacktestHSI1812- From:2018-11-30 00:00:00 To:2018-12-28 00:00:00\n",
      "BacktestHSI1901- From:2018-12-31 00:00:00 To:2019-01-30 00:00:00\n",
      "BacktestHSI1902- From:2019-01-31 00:00:00 To:2019-02-27 00:00:00\n",
      "BacktestHSI1903- From:2019-02-28 00:00:00 To:2019-03-28 00:00:00\n",
      "BacktestHSI1904- From:2019-03-29 00:00:00 To:2019-04-01 00:00:00\n"
     ]
    }
   ],
   "source": [
    "trade_results = []\n",
    "for code, tds in trade_dates.items():\n",
    "    print(f'Backtest{code}- From:{tds[0]} To:{tds[-1]}')\n",
    "    s = tds[0]\n",
    "    e = tds[-1]\n",
    "    df = hf.get_bars(code, fields=['datetime', 'open', 'high', 'low', 'close', 'trade_date'], start=s, end=e)\n",
    "    df['std_5'] = talib.STDDEV(df['close'].values, timeperiod=5)\n",
    "#     df['std_5'] = 0\n",
    "    df['std_60'] = talib.STDDEV(df['close'].values, timeperiod=60)\n",
    "    df['last_close'] = df['close'].shift(1)\n",
    "    trade_result = df.groupby('trade_date').apply(HLStrategy)\n",
    "    trade_results.append(trade_result)"
   ]
  },
  {
   "cell_type": "code",
   "execution_count": 10,
   "metadata": {
    "ExecuteTime": {
     "end_time": "2019-05-28T04:32:26.801228Z",
     "start_time": "2019-05-28T04:32:26.794709Z"
    },
    "collapsed": true
   },
   "outputs": [],
   "source": [
    "total_results = pd.concat(trade_results)"
   ]
  },
  {
   "cell_type": "code",
   "execution_count": 11,
   "metadata": {
    "ExecuteTime": {
     "end_time": "2019-05-28T04:33:09.936630Z",
     "start_time": "2019-05-28T04:33:09.927628Z"
    },
    "collapsed": true
   },
   "outputs": [],
   "source": [
    "total_pnl = 0\n",
    "total_count = 0\n",
    "lost_pnl = 0\n",
    "lost_count = 0\n",
    "gain_pnl = 0\n",
    "gain_count = 0\n",
    "pnl_list = []\n",
    "for d, r in total_results.items():\n",
    "    if r[0] and r[1]:\n",
    "        _open = -r[0][2] if r[0][1] == 'Long' else r[0][2]\n",
    "        _close = -r[1][2] if r[1][1] == 'Long' else r[1][2]\n",
    "        pnl = _close + _open\n",
    "        pnl_list.append([d, pnl, r[2], r[3], r[4], r[7]])\n",
    "        if pnl <0:\n",
    "            lost_pnl += pnl\n",
    "            lost_count += 1\n",
    "        else:\n",
    "            gain_pnl += pnl\n",
    "            gain_count += 1\n",
    "total_pnl = gain_pnl + lost_pnl\n",
    "total_count = gain_count + lost_count"
   ]
  },
  {
   "cell_type": "code",
   "execution_count": 12,
   "metadata": {
    "ExecuteTime": {
     "end_time": "2019-05-28T04:33:12.666812Z",
     "start_time": "2019-05-28T04:33:12.662814Z"
    }
   },
   "outputs": [
    {
     "name": "stdout",
     "output_type": "stream",
     "text": [
      "胜率：0.4230769230769231 盈亏比：1.8558784856041715\n"
     ]
    }
   ],
   "source": [
    "win_rate = gain_count /total_count\n",
    "pnl_rate = abs((gain_pnl/gain_count)/(lost_pnl/lost_count))\n",
    "print(f'胜率：{win_rate} 盈亏比：{pnl_rate}')"
   ]
  },
  {
   "cell_type": "code",
   "execution_count": 13,
   "metadata": {
    "ExecuteTime": {
     "end_time": "2019-05-28T04:33:14.145295Z",
     "start_time": "2019-05-28T04:33:14.136299Z"
    }
   },
   "outputs": [
    {
     "data": {
      "text/plain": [
       "9.665598290598291"
      ]
     },
     "execution_count": 13,
     "metadata": {},
     "output_type": "execute_result"
    }
   ],
   "source": [
    "total_pnl/total_count"
   ]
  },
  {
   "cell_type": "code",
   "execution_count": 14,
   "metadata": {
    "ExecuteTime": {
     "end_time": "2019-05-28T04:33:29.814955Z",
     "start_time": "2019-05-28T04:33:29.807954Z"
    },
    "collapsed": true
   },
   "outputs": [],
   "source": [
    "df=pd.DataFrame(pnl_list, columns=['date', 'pnl', '_type', '_openH', '_range', '_std']).set_index('date')"
   ]
  },
  {
   "cell_type": "code",
   "execution_count": 15,
   "metadata": {
    "ExecuteTime": {
     "end_time": "2019-05-28T04:33:31.533077Z",
     "start_time": "2019-05-28T04:33:31.504073Z"
    }
   },
   "outputs": [
    {
     "data": {
      "text/html": [
       "<div>\n",
       "<style>\n",
       "    .dataframe thead tr:only-child th {\n",
       "        text-align: right;\n",
       "    }\n",
       "\n",
       "    .dataframe thead th {\n",
       "        text-align: left;\n",
       "    }\n",
       "\n",
       "    .dataframe tbody tr th {\n",
       "        vertical-align: top;\n",
       "    }\n",
       "</style>\n",
       "<table border=\"1\" class=\"dataframe\">\n",
       "  <thead>\n",
       "    <tr style=\"text-align: right;\">\n",
       "      <th></th>\n",
       "      <th>pnl</th>\n",
       "      <th>_type</th>\n",
       "      <th>_openH</th>\n",
       "      <th>_range</th>\n",
       "      <th>_std</th>\n",
       "    </tr>\n",
       "    <tr>\n",
       "      <th>date</th>\n",
       "      <th></th>\n",
       "      <th></th>\n",
       "      <th></th>\n",
       "      <th></th>\n",
       "      <th></th>\n",
       "    </tr>\n",
       "  </thead>\n",
       "  <tbody>\n",
       "    <tr>\n",
       "      <th>2011-01-03</th>\n",
       "      <td>20.0</td>\n",
       "      <td>LHL</td>\n",
       "      <td>NaN</td>\n",
       "      <td>277.0</td>\n",
       "      <td>67.119338</td>\n",
       "    </tr>\n",
       "    <tr>\n",
       "      <th>2011-01-04</th>\n",
       "      <td>113.0</td>\n",
       "      <td>LHL</td>\n",
       "      <td>7.0</td>\n",
       "      <td>145.0</td>\n",
       "      <td>45.631528</td>\n",
       "    </tr>\n",
       "    <tr>\n",
       "      <th>2011-01-05</th>\n",
       "      <td>23.0</td>\n",
       "      <td>LHL</td>\n",
       "      <td>-66.0</td>\n",
       "      <td>117.0</td>\n",
       "      <td>30.794678</td>\n",
       "    </tr>\n",
       "    <tr>\n",
       "      <th>2011-01-06</th>\n",
       "      <td>-51.0</td>\n",
       "      <td>HLS</td>\n",
       "      <td>83.0</td>\n",
       "      <td>91.0</td>\n",
       "      <td>24.162275</td>\n",
       "    </tr>\n",
       "    <tr>\n",
       "      <th>2011-01-07</th>\n",
       "      <td>2.0</td>\n",
       "      <td>LHL</td>\n",
       "      <td>-15.0</td>\n",
       "      <td>139.0</td>\n",
       "      <td>29.863002</td>\n",
       "    </tr>\n",
       "    <tr>\n",
       "      <th>2011-01-10</th>\n",
       "      <td>96.0</td>\n",
       "      <td>HLS</td>\n",
       "      <td>-79.0</td>\n",
       "      <td>153.0</td>\n",
       "      <td>44.703157</td>\n",
       "    </tr>\n",
       "    <tr>\n",
       "      <th>2011-01-11</th>\n",
       "      <td>107.0</td>\n",
       "      <td>HLL</td>\n",
       "      <td>68.0</td>\n",
       "      <td>115.0</td>\n",
       "      <td>28.416598</td>\n",
       "    </tr>\n",
       "    <tr>\n",
       "      <th>2011-01-12</th>\n",
       "      <td>223.0</td>\n",
       "      <td>LHL</td>\n",
       "      <td>64.0</td>\n",
       "      <td>138.0</td>\n",
       "      <td>37.706450</td>\n",
       "    </tr>\n",
       "    <tr>\n",
       "      <th>2011-01-13</th>\n",
       "      <td>-65.0</td>\n",
       "      <td>LHS</td>\n",
       "      <td>104.0</td>\n",
       "      <td>128.0</td>\n",
       "      <td>27.348857</td>\n",
       "    </tr>\n",
       "    <tr>\n",
       "      <th>2011-01-14</th>\n",
       "      <td>-6.0</td>\n",
       "      <td>HLL</td>\n",
       "      <td>20.0</td>\n",
       "      <td>77.0</td>\n",
       "      <td>18.865393</td>\n",
       "    </tr>\n",
       "    <tr>\n",
       "      <th>2011-01-17</th>\n",
       "      <td>10.0</td>\n",
       "      <td>HLS</td>\n",
       "      <td>25.0</td>\n",
       "      <td>173.0</td>\n",
       "      <td>48.763930</td>\n",
       "    </tr>\n",
       "    <tr>\n",
       "      <th>2011-01-18</th>\n",
       "      <td>45.0</td>\n",
       "      <td>LHL</td>\n",
       "      <td>-16.0</td>\n",
       "      <td>113.0</td>\n",
       "      <td>29.737233</td>\n",
       "    </tr>\n",
       "    <tr>\n",
       "      <th>2011-01-19</th>\n",
       "      <td>-23.0</td>\n",
       "      <td>HLL</td>\n",
       "      <td>146.0</td>\n",
       "      <td>87.0</td>\n",
       "      <td>23.462997</td>\n",
       "    </tr>\n",
       "    <tr>\n",
       "      <th>2011-01-20</th>\n",
       "      <td>4.0</td>\n",
       "      <td>HLS</td>\n",
       "      <td>-140.0</td>\n",
       "      <td>142.0</td>\n",
       "      <td>33.368694</td>\n",
       "    </tr>\n",
       "    <tr>\n",
       "      <th>2011-01-21</th>\n",
       "      <td>-22.0</td>\n",
       "      <td>LHL</td>\n",
       "      <td>-43.0</td>\n",
       "      <td>176.0</td>\n",
       "      <td>48.749826</td>\n",
       "    </tr>\n",
       "    <tr>\n",
       "      <th>2011-01-24</th>\n",
       "      <td>3.0</td>\n",
       "      <td>HLS</td>\n",
       "      <td>158.0</td>\n",
       "      <td>129.0</td>\n",
       "      <td>31.000090</td>\n",
       "    </tr>\n",
       "    <tr>\n",
       "      <th>2011-01-25</th>\n",
       "      <td>-43.0</td>\n",
       "      <td>LHL</td>\n",
       "      <td>104.0</td>\n",
       "      <td>76.0</td>\n",
       "      <td>20.401961</td>\n",
       "    </tr>\n",
       "    <tr>\n",
       "      <th>2011-01-26</th>\n",
       "      <td>84.0</td>\n",
       "      <td>HLS</td>\n",
       "      <td>32.0</td>\n",
       "      <td>74.0</td>\n",
       "      <td>19.348959</td>\n",
       "    </tr>\n",
       "    <tr>\n",
       "      <th>2011-01-27</th>\n",
       "      <td>-62.0</td>\n",
       "      <td>LHL</td>\n",
       "      <td>-84.0</td>\n",
       "      <td>220.0</td>\n",
       "      <td>67.486962</td>\n",
       "    </tr>\n",
       "    <tr>\n",
       "      <th>2011-01-31</th>\n",
       "      <td>-45.0</td>\n",
       "      <td>LHL</td>\n",
       "      <td>NaN</td>\n",
       "      <td>82.0</td>\n",
       "      <td>16.373556</td>\n",
       "    </tr>\n",
       "    <tr>\n",
       "      <th>2011-02-02</th>\n",
       "      <td>71.0</td>\n",
       "      <td>LHL</td>\n",
       "      <td>176.0</td>\n",
       "      <td>217.0</td>\n",
       "      <td>79.678702</td>\n",
       "    </tr>\n",
       "    <tr>\n",
       "      <th>2011-02-07</th>\n",
       "      <td>43.0</td>\n",
       "      <td>HLS</td>\n",
       "      <td>53.0</td>\n",
       "      <td>121.0</td>\n",
       "      <td>31.251182</td>\n",
       "    </tr>\n",
       "    <tr>\n",
       "      <th>2011-02-08</th>\n",
       "      <td>11.0</td>\n",
       "      <td>HLS</td>\n",
       "      <td>56.0</td>\n",
       "      <td>127.0</td>\n",
       "      <td>25.875535</td>\n",
       "    </tr>\n",
       "    <tr>\n",
       "      <th>2011-02-09</th>\n",
       "      <td>161.0</td>\n",
       "      <td>HLS</td>\n",
       "      <td>62.0</td>\n",
       "      <td>279.0</td>\n",
       "      <td>86.665030</td>\n",
       "    </tr>\n",
       "    <tr>\n",
       "      <th>2011-02-10</th>\n",
       "      <td>183.0</td>\n",
       "      <td>LHS</td>\n",
       "      <td>-4.0</td>\n",
       "      <td>140.0</td>\n",
       "      <td>31.241461</td>\n",
       "    </tr>\n",
       "    <tr>\n",
       "      <th>2011-02-11</th>\n",
       "      <td>9.0</td>\n",
       "      <td>LHS</td>\n",
       "      <td>-31.0</td>\n",
       "      <td>139.0</td>\n",
       "      <td>28.116321</td>\n",
       "    </tr>\n",
       "    <tr>\n",
       "      <th>2011-02-14</th>\n",
       "      <td>31.0</td>\n",
       "      <td>LHL</td>\n",
       "      <td>130.0</td>\n",
       "      <td>132.0</td>\n",
       "      <td>28.964974</td>\n",
       "    </tr>\n",
       "    <tr>\n",
       "      <th>2011-02-15</th>\n",
       "      <td>-7.0</td>\n",
       "      <td>LHS</td>\n",
       "      <td>-68.0</td>\n",
       "      <td>143.0</td>\n",
       "      <td>33.812042</td>\n",
       "    </tr>\n",
       "    <tr>\n",
       "      <th>2011-02-16</th>\n",
       "      <td>-29.0</td>\n",
       "      <td>HLL</td>\n",
       "      <td>49.0</td>\n",
       "      <td>181.0</td>\n",
       "      <td>49.898018</td>\n",
       "    </tr>\n",
       "    <tr>\n",
       "      <th>2011-02-17</th>\n",
       "      <td>-15.0</td>\n",
       "      <td>LHS</td>\n",
       "      <td>86.0</td>\n",
       "      <td>94.0</td>\n",
       "      <td>22.922914</td>\n",
       "    </tr>\n",
       "    <tr>\n",
       "      <th>...</th>\n",
       "      <td>...</td>\n",
       "      <td>...</td>\n",
       "      <td>...</td>\n",
       "      <td>...</td>\n",
       "      <td>...</td>\n",
       "    </tr>\n",
       "    <tr>\n",
       "      <th>2019-02-19</th>\n",
       "      <td>26.0</td>\n",
       "      <td>LHS</td>\n",
       "      <td>-26.0</td>\n",
       "      <td>155.0</td>\n",
       "      <td>33.276051</td>\n",
       "    </tr>\n",
       "    <tr>\n",
       "      <th>2019-02-20</th>\n",
       "      <td>-83.0</td>\n",
       "      <td>LHL</td>\n",
       "      <td>-15.0</td>\n",
       "      <td>178.0</td>\n",
       "      <td>53.629583</td>\n",
       "    </tr>\n",
       "    <tr>\n",
       "      <th>2019-02-21</th>\n",
       "      <td>75.0</td>\n",
       "      <td>LHL</td>\n",
       "      <td>-116.0</td>\n",
       "      <td>196.0</td>\n",
       "      <td>51.659290</td>\n",
       "    </tr>\n",
       "    <tr>\n",
       "      <th>2019-02-22</th>\n",
       "      <td>224.0</td>\n",
       "      <td>HLL</td>\n",
       "      <td>5.0</td>\n",
       "      <td>131.0</td>\n",
       "      <td>34.306397</td>\n",
       "    </tr>\n",
       "    <tr>\n",
       "      <th>2019-02-25</th>\n",
       "      <td>-41.0</td>\n",
       "      <td>HLS</td>\n",
       "      <td>62.0</td>\n",
       "      <td>193.0</td>\n",
       "      <td>46.557623</td>\n",
       "    </tr>\n",
       "    <tr>\n",
       "      <th>2019-02-26</th>\n",
       "      <td>-23.0</td>\n",
       "      <td>HLS</td>\n",
       "      <td>-105.0</td>\n",
       "      <td>160.0</td>\n",
       "      <td>35.732105</td>\n",
       "    </tr>\n",
       "    <tr>\n",
       "      <th>2019-02-27</th>\n",
       "      <td>-36.0</td>\n",
       "      <td>LHL</td>\n",
       "      <td>13.0</td>\n",
       "      <td>109.0</td>\n",
       "      <td>26.102889</td>\n",
       "    </tr>\n",
       "    <tr>\n",
       "      <th>2019-02-28</th>\n",
       "      <td>-118.0</td>\n",
       "      <td>LHL</td>\n",
       "      <td>-40.0</td>\n",
       "      <td>224.0</td>\n",
       "      <td>65.107441</td>\n",
       "    </tr>\n",
       "    <tr>\n",
       "      <th>2019-03-01</th>\n",
       "      <td>21.0</td>\n",
       "      <td>LHL</td>\n",
       "      <td>99.0</td>\n",
       "      <td>86.0</td>\n",
       "      <td>22.754114</td>\n",
       "    </tr>\n",
       "    <tr>\n",
       "      <th>2019-03-04</th>\n",
       "      <td>334.0</td>\n",
       "      <td>LHL</td>\n",
       "      <td>138.0</td>\n",
       "      <td>92.0</td>\n",
       "      <td>16.880059</td>\n",
       "    </tr>\n",
       "    <tr>\n",
       "      <th>2019-03-05</th>\n",
       "      <td>68.0</td>\n",
       "      <td>LHL</td>\n",
       "      <td>-128.0</td>\n",
       "      <td>115.0</td>\n",
       "      <td>27.274754</td>\n",
       "    </tr>\n",
       "    <tr>\n",
       "      <th>2019-03-06</th>\n",
       "      <td>-107.0</td>\n",
       "      <td>LHL</td>\n",
       "      <td>34.0</td>\n",
       "      <td>189.0</td>\n",
       "      <td>42.030293</td>\n",
       "    </tr>\n",
       "    <tr>\n",
       "      <th>2019-03-07</th>\n",
       "      <td>-74.0</td>\n",
       "      <td>LHS</td>\n",
       "      <td>-99.0</td>\n",
       "      <td>115.0</td>\n",
       "      <td>26.600935</td>\n",
       "    </tr>\n",
       "    <tr>\n",
       "      <th>2019-03-08</th>\n",
       "      <td>15.0</td>\n",
       "      <td>LHL</td>\n",
       "      <td>-267.0</td>\n",
       "      <td>111.0</td>\n",
       "      <td>26.994670</td>\n",
       "    </tr>\n",
       "    <tr>\n",
       "      <th>2019-03-11</th>\n",
       "      <td>39.0</td>\n",
       "      <td>LHL</td>\n",
       "      <td>-147.0</td>\n",
       "      <td>116.0</td>\n",
       "      <td>24.951865</td>\n",
       "    </tr>\n",
       "    <tr>\n",
       "      <th>2019-03-12</th>\n",
       "      <td>38.0</td>\n",
       "      <td>LHL</td>\n",
       "      <td>276.0</td>\n",
       "      <td>101.0</td>\n",
       "      <td>22.442049</td>\n",
       "    </tr>\n",
       "    <tr>\n",
       "      <th>2019-03-13</th>\n",
       "      <td>-74.0</td>\n",
       "      <td>HLS</td>\n",
       "      <td>4.0</td>\n",
       "      <td>189.0</td>\n",
       "      <td>44.894924</td>\n",
       "    </tr>\n",
       "    <tr>\n",
       "      <th>2019-03-14</th>\n",
       "      <td>35.0</td>\n",
       "      <td>LHS</td>\n",
       "      <td>62.0</td>\n",
       "      <td>117.0</td>\n",
       "      <td>24.200614</td>\n",
       "    </tr>\n",
       "    <tr>\n",
       "      <th>2019-03-15</th>\n",
       "      <td>78.0</td>\n",
       "      <td>LHL</td>\n",
       "      <td>-2.0</td>\n",
       "      <td>194.0</td>\n",
       "      <td>58.332371</td>\n",
       "    </tr>\n",
       "    <tr>\n",
       "      <th>2019-03-18</th>\n",
       "      <td>33.0</td>\n",
       "      <td>LHL</td>\n",
       "      <td>92.0</td>\n",
       "      <td>130.0</td>\n",
       "      <td>31.151293</td>\n",
       "    </tr>\n",
       "    <tr>\n",
       "      <th>2019-03-19</th>\n",
       "      <td>-17.0</td>\n",
       "      <td>HLS</td>\n",
       "      <td>-2.0</td>\n",
       "      <td>109.0</td>\n",
       "      <td>26.155220</td>\n",
       "    </tr>\n",
       "    <tr>\n",
       "      <th>2019-03-20</th>\n",
       "      <td>-18.0</td>\n",
       "      <td>HLL</td>\n",
       "      <td>-107.0</td>\n",
       "      <td>126.0</td>\n",
       "      <td>32.155918</td>\n",
       "    </tr>\n",
       "    <tr>\n",
       "      <th>2019-03-21</th>\n",
       "      <td>-61.0</td>\n",
       "      <td>LHL</td>\n",
       "      <td>4.0</td>\n",
       "      <td>98.0</td>\n",
       "      <td>22.389351</td>\n",
       "    </tr>\n",
       "    <tr>\n",
       "      <th>2019-03-22</th>\n",
       "      <td>165.0</td>\n",
       "      <td>HLS</td>\n",
       "      <td>108.0</td>\n",
       "      <td>164.0</td>\n",
       "      <td>41.885704</td>\n",
       "    </tr>\n",
       "    <tr>\n",
       "      <th>2019-03-25</th>\n",
       "      <td>-97.0</td>\n",
       "      <td>LHL</td>\n",
       "      <td>-577.0</td>\n",
       "      <td>219.0</td>\n",
       "      <td>45.255359</td>\n",
       "    </tr>\n",
       "    <tr>\n",
       "      <th>2019-03-26</th>\n",
       "      <td>92.0</td>\n",
       "      <td>HLS</td>\n",
       "      <td>201.0</td>\n",
       "      <td>125.0</td>\n",
       "      <td>32.802994</td>\n",
       "    </tr>\n",
       "    <tr>\n",
       "      <th>2019-03-27</th>\n",
       "      <td>-14.0</td>\n",
       "      <td>LHL</td>\n",
       "      <td>60.0</td>\n",
       "      <td>126.0</td>\n",
       "      <td>31.955329</td>\n",
       "    </tr>\n",
       "    <tr>\n",
       "      <th>2019-03-28</th>\n",
       "      <td>2.0</td>\n",
       "      <td>LHL</td>\n",
       "      <td>-118.0</td>\n",
       "      <td>103.0</td>\n",
       "      <td>23.517488</td>\n",
       "    </tr>\n",
       "    <tr>\n",
       "      <th>2019-03-29</th>\n",
       "      <td>159.0</td>\n",
       "      <td>LHL</td>\n",
       "      <td>NaN</td>\n",
       "      <td>133.0</td>\n",
       "      <td>30.164599</td>\n",
       "    </tr>\n",
       "    <tr>\n",
       "      <th>2019-04-01</th>\n",
       "      <td>-37.0</td>\n",
       "      <td>LHL</td>\n",
       "      <td>375.0</td>\n",
       "      <td>193.0</td>\n",
       "      <td>47.581462</td>\n",
       "    </tr>\n",
       "  </tbody>\n",
       "</table>\n",
       "<p>1872 rows × 5 columns</p>\n",
       "</div>"
      ],
      "text/plain": [
       "              pnl _type  _openH  _range       _std\n",
       "date                                              \n",
       "2011-01-03   20.0   LHL     NaN   277.0  67.119338\n",
       "2011-01-04  113.0   LHL     7.0   145.0  45.631528\n",
       "2011-01-05   23.0   LHL   -66.0   117.0  30.794678\n",
       "2011-01-06  -51.0   HLS    83.0    91.0  24.162275\n",
       "2011-01-07    2.0   LHL   -15.0   139.0  29.863002\n",
       "2011-01-10   96.0   HLS   -79.0   153.0  44.703157\n",
       "2011-01-11  107.0   HLL    68.0   115.0  28.416598\n",
       "2011-01-12  223.0   LHL    64.0   138.0  37.706450\n",
       "2011-01-13  -65.0   LHS   104.0   128.0  27.348857\n",
       "2011-01-14   -6.0   HLL    20.0    77.0  18.865393\n",
       "2011-01-17   10.0   HLS    25.0   173.0  48.763930\n",
       "2011-01-18   45.0   LHL   -16.0   113.0  29.737233\n",
       "2011-01-19  -23.0   HLL   146.0    87.0  23.462997\n",
       "2011-01-20    4.0   HLS  -140.0   142.0  33.368694\n",
       "2011-01-21  -22.0   LHL   -43.0   176.0  48.749826\n",
       "2011-01-24    3.0   HLS   158.0   129.0  31.000090\n",
       "2011-01-25  -43.0   LHL   104.0    76.0  20.401961\n",
       "2011-01-26   84.0   HLS    32.0    74.0  19.348959\n",
       "2011-01-27  -62.0   LHL   -84.0   220.0  67.486962\n",
       "2011-01-31  -45.0   LHL     NaN    82.0  16.373556\n",
       "2011-02-02   71.0   LHL   176.0   217.0  79.678702\n",
       "2011-02-07   43.0   HLS    53.0   121.0  31.251182\n",
       "2011-02-08   11.0   HLS    56.0   127.0  25.875535\n",
       "2011-02-09  161.0   HLS    62.0   279.0  86.665030\n",
       "2011-02-10  183.0   LHS    -4.0   140.0  31.241461\n",
       "2011-02-11    9.0   LHS   -31.0   139.0  28.116321\n",
       "2011-02-14   31.0   LHL   130.0   132.0  28.964974\n",
       "2011-02-15   -7.0   LHS   -68.0   143.0  33.812042\n",
       "2011-02-16  -29.0   HLL    49.0   181.0  49.898018\n",
       "2011-02-17  -15.0   LHS    86.0    94.0  22.922914\n",
       "...           ...   ...     ...     ...        ...\n",
       "2019-02-19   26.0   LHS   -26.0   155.0  33.276051\n",
       "2019-02-20  -83.0   LHL   -15.0   178.0  53.629583\n",
       "2019-02-21   75.0   LHL  -116.0   196.0  51.659290\n",
       "2019-02-22  224.0   HLL     5.0   131.0  34.306397\n",
       "2019-02-25  -41.0   HLS    62.0   193.0  46.557623\n",
       "2019-02-26  -23.0   HLS  -105.0   160.0  35.732105\n",
       "2019-02-27  -36.0   LHL    13.0   109.0  26.102889\n",
       "2019-02-28 -118.0   LHL   -40.0   224.0  65.107441\n",
       "2019-03-01   21.0   LHL    99.0    86.0  22.754114\n",
       "2019-03-04  334.0   LHL   138.0    92.0  16.880059\n",
       "2019-03-05   68.0   LHL  -128.0   115.0  27.274754\n",
       "2019-03-06 -107.0   LHL    34.0   189.0  42.030293\n",
       "2019-03-07  -74.0   LHS   -99.0   115.0  26.600935\n",
       "2019-03-08   15.0   LHL  -267.0   111.0  26.994670\n",
       "2019-03-11   39.0   LHL  -147.0   116.0  24.951865\n",
       "2019-03-12   38.0   LHL   276.0   101.0  22.442049\n",
       "2019-03-13  -74.0   HLS     4.0   189.0  44.894924\n",
       "2019-03-14   35.0   LHS    62.0   117.0  24.200614\n",
       "2019-03-15   78.0   LHL    -2.0   194.0  58.332371\n",
       "2019-03-18   33.0   LHL    92.0   130.0  31.151293\n",
       "2019-03-19  -17.0   HLS    -2.0   109.0  26.155220\n",
       "2019-03-20  -18.0   HLL  -107.0   126.0  32.155918\n",
       "2019-03-21  -61.0   LHL     4.0    98.0  22.389351\n",
       "2019-03-22  165.0   HLS   108.0   164.0  41.885704\n",
       "2019-03-25  -97.0   LHL  -577.0   219.0  45.255359\n",
       "2019-03-26   92.0   HLS   201.0   125.0  32.802994\n",
       "2019-03-27  -14.0   LHL    60.0   126.0  31.955329\n",
       "2019-03-28    2.0   LHL  -118.0   103.0  23.517488\n",
       "2019-03-29  159.0   LHL     NaN   133.0  30.164599\n",
       "2019-04-01  -37.0   LHL   375.0   193.0  47.581462\n",
       "\n",
       "[1872 rows x 5 columns]"
      ]
     },
     "execution_count": 15,
     "metadata": {},
     "output_type": "execute_result"
    }
   ],
   "source": [
    "df"
   ]
  },
  {
   "cell_type": "code",
   "execution_count": 16,
   "metadata": {
    "ExecuteTime": {
     "end_time": "2019-05-28T04:36:07.038696Z",
     "start_time": "2019-05-28T04:36:07.001189Z"
    },
    "collapsed": true
   },
   "outputs": [],
   "source": [
    "grouped_by_openH = df.groupby(pd.cut(df['_openH'], bins=20))\n",
    "grouped_bt_range = df.groupby(pd.cut(df['_range'], bins=20))\n",
    "grouped_bt_range = df.groupby(pd.cut(df['_std'], bins=20))"
   ]
  },
  {
   "cell_type": "code",
   "execution_count": 18,
   "metadata": {
    "ExecuteTime": {
     "end_time": "2019-05-28T04:36:11.702678Z",
     "start_time": "2019-05-28T04:36:11.686675Z"
    },
    "collapsed": true
   },
   "outputs": [],
   "source": [
    "df['group_openH'] = pd.cut(df['_openH'], bins=10)\n",
    "df['group_range'] = pd.cut(df['_range'], bins=20)\n",
    "df['group_std'] = pd.cut(df['_std'], bins=20)"
   ]
  },
  {
   "cell_type": "code",
   "execution_count": 20,
   "metadata": {
    "ExecuteTime": {
     "end_time": "2019-05-28T04:37:06.971598Z",
     "start_time": "2019-05-28T04:37:06.702797Z"
    }
   },
   "outputs": [
    {
     "name": "stdout",
     "output_type": "stream",
     "text": [
      "Populating the interactive namespace from numpy and matplotlib\n"
     ]
    },
    {
     "name": "stderr",
     "output_type": "stream",
     "text": [
      "d:\\Users\\Administrator\\Anaconda3\\lib\\site-packages\\IPython\\core\\magics\\pylab.py:160: UserWarning: pylab import has clobbered these variables: ['e']\n",
      "`%matplotlib` prevents importing * from pylab and numpy\n",
      "  \"\\n`%matplotlib` prevents importing * from pylab and numpy\"\n"
     ]
    }
   ],
   "source": [
    "%pylab inline"
   ]
  },
  {
   "cell_type": "code",
   "execution_count": 64,
   "metadata": {
    "ExecuteTime": {
     "end_time": "2019-05-28T05:02:51.407886Z",
     "start_time": "2019-05-28T05:02:51.185864Z"
    }
   },
   "outputs": [
    {
     "name": "stdout",
     "output_type": "stream",
     "text": [
      "_openH\n",
      "(-1311.248, -1264.04]    649.000000\n",
      "(-1264.04, -1219.08]            NaN\n",
      "(-1219.08, -1174.12]            NaN\n",
      "(-1174.12, -1129.16]            NaN\n",
      "(-1129.16, -1084.2]        8.000000\n",
      "(-1084.2, -1039.24]             NaN\n",
      "(-1039.24, -994.28]             NaN\n",
      "(-994.28, -949.32]              NaN\n",
      "(-949.32, -904.36]        37.000000\n",
      "(-904.36, -859.4]          2.000000\n",
      "(-859.4, -814.44]               NaN\n",
      "(-814.44, -769.48]              NaN\n",
      "(-769.48, -724.52]      -120.000000\n",
      "(-724.52, -679.56]              NaN\n",
      "(-679.56, -634.6]               NaN\n",
      "(-634.6, -589.64]       -151.000000\n",
      "(-589.64, -544.68]       -97.000000\n",
      "(-544.68, -499.72]        80.000000\n",
      "(-499.72, -454.76]         3.500000\n",
      "(-454.76, -409.8]         22.800000\n",
      "(-409.8, -364.84]         16.375000\n",
      "(-364.84, -319.88]       -29.285714\n",
      "(-319.88, -274.92]        11.538462\n",
      "(-274.92, -229.96]        -4.766667\n",
      "(-229.96, -185.0]         29.146341\n",
      "(-185.0, -140.04]         10.163934\n",
      "(-140.04, -95.08]          1.605505\n",
      "(-95.08, -50.12]           5.324022\n",
      "(-50.12, -5.16]            3.290801\n",
      "(-5.16, 39.8]             10.455307\n",
      "(39.8, 84.76]             14.063333\n",
      "(84.76, 129.72]            9.384106\n",
      "(129.72, 174.68]           4.256098\n",
      "(174.68, 219.64]          13.456522\n",
      "(219.64, 264.6]           38.941176\n",
      "(264.6, 309.56]           23.166667\n",
      "(309.56, 354.52]          36.600000\n",
      "(354.52, 399.48]          -3.250000\n",
      "(399.48, 444.44]         -12.142857\n",
      "(444.44, 489.4]           45.333333\n",
      "(489.4, 534.36]          -22.000000\n",
      "(534.36, 579.32]         -80.333333\n",
      "(579.32, 624.28]          15.500000\n",
      "(624.28, 669.24]         297.000000\n",
      "(669.24, 714.2]          -44.000000\n",
      "(714.2, 759.16]                 NaN\n",
      "(759.16, 804.12]                NaN\n",
      "(804.12, 849.08]                NaN\n",
      "(849.08, 894.04]                NaN\n",
      "(894.04, 939.0]          -54.000000\n",
      "Name: pnl, dtype: float64\n"
     ]
    },
    {
     "data": {
      "text/plain": [
       "<Container object of 50 artists>"
      ]
     },
     "execution_count": 64,
     "metadata": {},
     "output_type": "execute_result"
    },
    {
     "data": {
      "image/png": "[encoded data removed]",
      "text/plain": [
       "<matplotlib.figure.Figure at 0x17f4d312a58>"
      ]
     },
     "metadata": {
      "needs_background": "light"
     },
     "output_type": "display_data"
    }
   ],
   "source": [
    "grouped_by_openH = df.groupby(pd.cut(df['_openH'], bins=50))\n",
    "print(grouped_by_openH.pnl.mean())\n",
    "plt.bar(range(len(grouped_by_openH.pnl.mean())),grouped_by_openH.pnl.mean())\n",
    "# 开盘区间选择-500至 350之间最佳"
   ]
  },
  {
   "cell_type": "code",
   "execution_count": 71,
   "metadata": {
    "ExecuteTime": {
     "end_time": "2019-05-28T05:30:49.776670Z",
     "start_time": "2019-05-28T05:30:49.597593Z"
    },
    "scrolled": true
   },
   "outputs": [
    {
     "data": {
      "text/plain": [
       "<Container object of 50 artists>"
      ]
     },
     "execution_count": 71,
     "metadata": {},
     "output_type": "execute_result"
    },
    {
     "data": {
      "image/png": "[encoded data removed]",
      "text/plain": [
       "<matplotlib.figure.Figure at 0x17f52eb3390>"
      ]
     },
     "metadata": {
      "needs_background": "light"
     },
     "output_type": "display_data"
    }
   ],
   "source": [
    "plt.bar(range(len(grouped_by_openH.pnl.mean())),grouped_by_openH.pnl.count())"
   ]
  },
  {
   "cell_type": "code",
   "execution_count": 72,
   "metadata": {
    "ExecuteTime": {
     "end_time": "2019-05-28T05:31:24.867828Z",
     "start_time": "2019-05-28T05:31:24.630807Z"
    }
   },
   "outputs": [
    {
     "name": "stdout",
     "output_type": "stream",
     "text": [
      "_range\n",
      "(41.789, 67.22]        19.077586\n",
      "(67.22, 91.44]          4.992727\n",
      "(91.44, 115.66]         5.825153\n",
      "(115.66, 139.88]        8.967846\n",
      "(139.88, 164.1]        -0.294574\n",
      "(164.1, 188.32]        16.881657\n",
      "(188.32, 212.54]       23.389831\n",
      "(212.54, 236.76]       13.729167\n",
      "(236.76, 260.98]       12.661017\n",
      "(260.98, 285.2]        -1.837838\n",
      "(285.2, 309.42]        20.944444\n",
      "(309.42, 333.64]       62.200000\n",
      "(333.64, 357.86]      -11.666667\n",
      "(357.86, 382.08]      -24.750000\n",
      "(382.08, 406.3]        -9.857143\n",
      "(406.3, 430.52]        25.900000\n",
      "(430.52, 454.74]     -103.333333\n",
      "(454.74, 478.96]        1.333333\n",
      "(478.96, 503.18]       94.333333\n",
      "(503.18, 527.4]        14.666667\n",
      "(527.4, 551.62]      -272.000000\n",
      "(551.62, 575.84]             NaN\n",
      "(575.84, 600.06]      552.000000\n",
      "(600.06, 624.28]             NaN\n",
      "(624.28, 648.5]       343.000000\n",
      "(648.5, 672.72]              NaN\n",
      "(672.72, 696.94]             NaN\n",
      "(696.94, 721.16]             NaN\n",
      "(721.16, 745.38]             NaN\n",
      "(745.38, 769.6]              NaN\n",
      "(769.6, 793.82]              NaN\n",
      "(793.82, 818.04]             NaN\n",
      "(818.04, 842.26]             NaN\n",
      "(842.26, 866.48]     -258.000000\n",
      "(866.48, 890.7]              NaN\n",
      "(890.7, 914.92]              NaN\n",
      "(914.92, 939.14]             NaN\n",
      "(939.14, 963.36]             NaN\n",
      "(963.36, 987.58]             NaN\n",
      "(987.58, 1011.8]             NaN\n",
      "(1011.8, 1036.02]            NaN\n",
      "(1036.02, 1060.24]           NaN\n",
      "(1060.24, 1084.46]           NaN\n",
      "(1084.46, 1108.68]           NaN\n",
      "(1108.68, 1132.9]            NaN\n",
      "(1132.9, 1157.12]    -252.000000\n",
      "(1157.12, 1181.34]           NaN\n",
      "(1181.34, 1205.56]           NaN\n",
      "(1205.56, 1229.78]           NaN\n",
      "(1229.78, 1254.0]    -137.000000\n",
      "Name: pnl, dtype: float64\n"
     ]
    },
    {
     "data": {
      "text/plain": [
       "<Container object of 50 artists>"
      ]
     },
     "execution_count": 72,
     "metadata": {},
     "output_type": "execute_result"
    },
    {
     "data": {
      "image/png": "[encoded data removed]",
      "text/plain": [
       "<matplotlib.figure.Figure at 0x17f5163e048>"
      ]
     },
     "metadata": {
      "needs_background": "light"
     },
     "output_type": "display_data"
    }
   ],
   "source": [
    "grouped_by_range = df.groupby(pd.cut(df['_range'], bins=50))\n",
    "print(grouped_by_range.pnl.mean())\n",
    "plt.bar(range(len(grouped_by_range.pnl.mean())),grouped_by_range.pnl.mean())\n",
    "# _range选择在350以内"
   ]
  },
  {
   "cell_type": "code",
   "execution_count": 73,
   "metadata": {
    "ExecuteTime": {
     "end_time": "2019-05-28T05:31:28.103535Z",
     "start_time": "2019-05-28T05:31:27.921487Z"
    }
   },
   "outputs": [
    {
     "data": {
      "text/plain": [
       "<Container object of 50 artists>"
      ]
     },
     "execution_count": 73,
     "metadata": {},
     "output_type": "execute_result"
    },
    {
     "data": {
      "image/png": "[encoded data removed]",
      "text/plain": [
       "<matplotlib.figure.Figure at 0x17f51342358>"
      ]
     },
     "metadata": {
      "needs_background": "light"
     },
     "output_type": "display_data"
    }
   ],
   "source": [
    "plt.bar(range(len(grouped_by_range.pnl.mean())),grouped_by_range.pnl.count())"
   ]
  },
  {
   "cell_type": "code",
   "execution_count": 74,
   "metadata": {
    "ExecuteTime": {
     "end_time": "2019-05-28T05:32:05.514563Z",
     "start_time": "2019-05-28T05:32:05.330992Z"
    }
   },
   "outputs": [
    {
     "name": "stdout",
     "output_type": "stream",
     "text": [
      "_std\n",
      "(8.593, 16.925]        18.582353\n",
      "(16.925, 24.859]        7.398892\n",
      "(24.859, 32.794]       -1.438692\n",
      "(32.794, 40.729]       12.651568\n",
      "(40.729, 48.663]        8.118943\n",
      "(48.663, 56.598]       13.470588\n",
      "(56.598, 64.532]       16.734694\n",
      "(64.532, 72.467]        6.676923\n",
      "(72.467, 80.402]       11.115385\n",
      "(80.402, 88.336]       23.500000\n",
      "(88.336, 96.271]       27.818182\n",
      "(96.271, 104.205]      11.384615\n",
      "(104.205, 112.14]      62.625000\n",
      "(112.14, 120.075]      29.833333\n",
      "(120.075, 128.009]    -60.000000\n",
      "(128.009, 135.944]    105.285714\n",
      "(135.944, 143.878]   -136.500000\n",
      "(143.878, 151.813]    111.000000\n",
      "(151.813, 159.748]    176.500000\n",
      "(159.748, 167.682]    -66.333333\n",
      "(167.682, 175.617]           NaN\n",
      "(175.617, 183.551]           NaN\n",
      "(183.551, 191.486]           NaN\n",
      "(191.486, 199.421]           NaN\n",
      "(199.421, 207.355]           NaN\n",
      "(207.355, 215.29]     200.000000\n",
      "(215.29, 223.224]     160.000000\n",
      "(223.224, 231.159]           NaN\n",
      "(231.159, 239.094]           NaN\n",
      "(239.094, 247.028]           NaN\n",
      "(247.028, 254.963]           NaN\n",
      "(254.963, 262.897]   -258.000000\n",
      "(262.897, 270.832]           NaN\n",
      "(270.832, 278.767]           NaN\n",
      "(278.767, 286.701]   -252.000000\n",
      "(286.701, 294.636]           NaN\n",
      "(294.636, 302.57]            NaN\n",
      "(302.57, 310.505]            NaN\n",
      "(310.505, 318.44]            NaN\n",
      "(318.44, 326.374]            NaN\n",
      "(326.374, 334.309]           NaN\n",
      "(334.309, 342.243]           NaN\n",
      "(342.243, 350.178]           NaN\n",
      "(350.178, 358.113]           NaN\n",
      "(358.113, 366.047]           NaN\n",
      "(366.047, 373.982]           NaN\n",
      "(373.982, 381.916]           NaN\n",
      "(381.916, 389.851]           NaN\n",
      "(389.851, 397.786]           NaN\n",
      "(397.786, 405.72]    -137.000000\n",
      "Name: pnl, dtype: float64\n"
     ]
    },
    {
     "data": {
      "text/plain": [
       "<Container object of 50 artists>"
      ]
     },
     "execution_count": 74,
     "metadata": {},
     "output_type": "execute_result"
    },
    {
     "data": {
      "image/png": "[encoded data removed]",
      "text/plain": [
       "<matplotlib.figure.Figure at 0x17f4b4267f0>"
      ]
     },
     "metadata": {
      "needs_background": "light"
     },
     "output_type": "display_data"
    }
   ],
   "source": [
    "grouped_by_std = df.groupby(pd.cut(df['_std'], bins=50))\n",
    "print(grouped_by_std.pnl.mean())\n",
    "plt.bar(range(len(grouped_by_std.pnl.mean())),grouped_by_std.pnl.mean())\n",
    "# _std选择在120以内"
   ]
  },
  {
   "cell_type": "code",
   "execution_count": 75,
   "metadata": {
    "ExecuteTime": {
     "end_time": "2019-05-28T05:32:41.117932Z",
     "start_time": "2019-05-28T05:32:40.920892Z"
    },
    "scrolled": true
   },
   "outputs": [
    {
     "data": {
      "text/plain": [
       "<Container object of 50 artists>"
      ]
     },
     "execution_count": 75,
     "metadata": {},
     "output_type": "execute_result"
    },
    {
     "data": {
      "image/png": "[encoded data removed]",
      "text/plain": [
       "<matplotlib.figure.Figure at 0x17f4cdd36d8>"
      ]
     },
     "metadata": {
      "needs_background": "light"
     },
     "output_type": "display_data"
    }
   ],
   "source": [
    "plt.bar(range(len(grouped_by_std.pnl.mean())),grouped_by_std.pnl.count())"
   ]
  },
  {
   "cell_type": "code",
   "execution_count": null,
   "metadata": {
    "collapsed": true
   },
   "outputs": [],
   "source": [
    "# 依照以上优化再做回测，_open在[-500, 3500], _range < 350, _std <120"
   ]
  },
  {
   "cell_type": "code",
   "execution_count": 78,
   "metadata": {
    "ExecuteTime": {
     "end_time": "2019-05-28T05:53:58.684894Z",
     "start_time": "2019-05-28T05:53:58.672895Z"
    },
    "collapsed": true
   },
   "outputs": [],
   "source": [
    "def HLStrategy_after_optimized(df):\n",
    "    _open=[]\n",
    "    _close=[]\n",
    "    _type = ''\n",
    "    _openH = 0\n",
    "    _range = 0\n",
    "    _std = 0\n",
    "    \n",
    "    df = df.between_time('9:15', '16:30')\n",
    "    if len(df)<60:\n",
    "        return _open, _close, _type, _openH, _range, 0, 0, 0, 0\n",
    "    \n",
    "    _openH = df.iloc[0]['open'] - df.iloc[0]['last_close']\n",
    "    df = df.iloc[6:]\n",
    "    open_time = df.iloc[0]['datetime']\n",
    "    first_hour: pd.DataFrame = df.iloc[:60]\n",
    "    rest_trading = df.iloc[61:]\n",
    "    upPrice = first_hour.close.max()\n",
    "    upPrice_time = first_hour.close.idxmax()\n",
    "    downPrice = first_hour.close.min()\n",
    "    downPrice_time = first_hour.close.idxmin()\n",
    "    _std = first_hour.iloc[-1].std_60\n",
    "    HT = (upPrice_time - open_time).total_seconds() // 60\n",
    "    LT = (downPrice_time - open_time).total_seconds() // 60\n",
    "    _range = upPrice - downPrice\n",
    "    if upPrice_time > downPrice_time:\n",
    "        _type = 'LH'\n",
    "    else:\n",
    "        _type = 'HL'\n",
    "    \n",
    "    fix_stoploss = (upPrice - downPrice) * 5 / 12\n",
    "    \n",
    "    if fix_stoploss < 40:\n",
    "        fix_stoploss = 40\n",
    "    elif fix_stoploss > 220:\n",
    "        fix_stoploss = 220\n",
    "    \n",
    "    pos = 0\n",
    "    TH = rest_trading.iloc[0]['close']\n",
    "    TL = rest_trading.iloc[0]['close']\n",
    "    \n",
    "    if not (-500 < _openH < 350 and _range < 350 and _std < 120):\n",
    "        return _open, _close, _type, _openH, _range, HT, LT, _std\n",
    "    \n",
    "\n",
    "    for d, bar in rest_trading.iterrows():\n",
    "        if pos == 0:\n",
    "            if bar.close > upPrice:\n",
    "                _open = [bar.datetime, 'Long', bar.close]\n",
    "                _type = 'LHL' if _type=='LH' else 'HLL'\n",
    "                pos += 1\n",
    "            elif bar.close < downPrice:\n",
    "                _open = [bar.datetime, 'Short', bar.close]\n",
    "                _type = 'LHS' if _type=='LH' else 'HLS'\n",
    "                pos -= 1\n",
    "        else:\n",
    "            if pos > 0:\n",
    "                if TH - bar.close > fix_stoploss + bar.std_5 :\n",
    "                    _close = [bar.datetime, 'Short', bar.close]\n",
    "                    pos -= 1\n",
    "                    break\n",
    "            elif pos  < 0:\n",
    "                if bar.close - TL > fix_stoploss + bar.std_5 :\n",
    "                    _close = [bar.datetime, 'Long', bar.close]\n",
    "                    pos += 1\n",
    "                    break\n",
    "        TH = max(bar.close, TH)\n",
    "        TL = min(bar.close, TL)\n",
    "    else:\n",
    "        if pos > 0:\n",
    "            _close = [bar.datetime, 'Short', bar.close]\n",
    "            pos -= 1\n",
    "        elif pos < 0:\n",
    "            _close = [bar.datetime, 'Long', bar.close]\n",
    "            pos += 1\n",
    "\n",
    "    \n",
    "    return _open, _close, _type, _openH, _range, HT, LT, _std\n",
    "    \n",
    "    "
   ]
  },
  {
   "cell_type": "code",
   "execution_count": 79,
   "metadata": {
    "ExecuteTime": {
     "end_time": "2019-05-28T05:55:19.306413Z",
     "start_time": "2019-05-28T05:54:00.837809Z"
    }
   },
   "outputs": [
    {
     "name": "stdout",
     "output_type": "stream",
     "text": [
      "BacktestHSI1101- From:2011-01-03 00:00:00 To:2011-01-28 00:00:00\n",
      "BacktestHSI1102- From:2011-01-31 00:00:00 To:2011-02-25 00:00:00\n",
      "BacktestHSI1103- From:2011-02-28 00:00:00 To:2011-03-30 00:00:00\n",
      "BacktestHSI1104- From:2011-03-31 00:00:00 To:2011-04-28 00:00:00\n",
      "BacktestHSI1105- From:2011-04-29 00:00:00 To:2011-05-30 00:00:00\n",
      "BacktestHSI1106- From:2011-05-31 00:00:00 To:2011-06-29 00:00:00\n",
      "BacktestHSI1107- From:2011-06-30 00:00:00 To:2011-07-28 00:00:00\n",
      "BacktestHSI1108- From:2011-07-29 00:00:00 To:2011-08-30 00:00:00\n",
      "BacktestHSI1109- From:2011-08-31 00:00:00 To:2011-09-30 00:00:00\n",
      "BacktestHSI1110- From:2011-10-03 00:00:00 To:2011-10-28 00:00:00\n",
      "BacktestHSI1111- From:2011-10-31 00:00:00 To:2011-11-29 00:00:00\n",
      "BacktestHSI1112- From:2011-11-30 00:00:00 To:2011-12-29 00:00:00\n",
      "BacktestHSI1201- From:2011-12-30 00:00:00 To:2012-01-30 00:00:00\n",
      "BacktestHSI1202- From:2012-01-31 00:00:00 To:2012-02-28 00:00:00\n",
      "BacktestHSI1203- From:2012-02-29 00:00:00 To:2012-03-29 00:00:00\n",
      "BacktestHSI1204- From:2012-03-30 00:00:00 To:2012-04-27 00:00:00\n",
      "BacktestHSI1205- From:2012-04-30 00:00:00 To:2012-05-30 00:00:00\n",
      "BacktestHSI1206- From:2012-05-31 00:00:00 To:2012-06-28 00:00:00\n",
      "BacktestHSI1207- From:2012-06-29 00:00:00 To:2012-07-30 00:00:00\n",
      "BacktestHSI1208- From:2012-07-31 00:00:00 To:2012-08-30 00:00:00\n",
      "BacktestHSI1209- From:2012-08-31 00:00:00 To:2012-09-27 00:00:00\n",
      "BacktestHSI1210- From:2012-09-28 00:00:00 To:2012-10-30 00:00:00\n",
      "BacktestHSI1211- From:2012-10-31 00:00:00 To:2012-11-29 00:00:00\n",
      "BacktestHSI1212- From:2012-11-30 00:00:00 To:2012-12-28 00:00:00\n",
      "BacktestHSI1301- From:2012-12-31 00:00:00 To:2013-01-30 00:00:00\n",
      "BacktestHSI1302- From:2013-01-31 00:00:00 To:2013-02-27 00:00:00\n",
      "BacktestHSI1303- From:2013-02-28 00:00:00 To:2013-03-27 00:00:00\n",
      "BacktestHSI1304- From:2013-03-28 00:00:00 To:2013-04-29 00:00:00\n",
      "BacktestHSI1305- From:2013-04-30 00:00:00 To:2013-05-30 00:00:00\n",
      "BacktestHSI1306- From:2013-05-31 00:00:00 To:2013-06-27 00:00:00\n",
      "BacktestHSI1307- From:2013-06-28 00:00:00 To:2013-07-30 00:00:00\n",
      "BacktestHSI1308- From:2013-07-31 00:00:00 To:2013-08-29 00:00:00\n",
      "BacktestHSI1309- From:2013-08-30 00:00:00 To:2013-09-27 00:00:00\n",
      "BacktestHSI1310- From:2013-09-30 00:00:00 To:2013-10-30 00:00:00\n",
      "BacktestHSI1311- From:2013-10-31 00:00:00 To:2013-11-28 00:00:00\n",
      "BacktestHSI1312- From:2013-11-29 00:00:00 To:2013-12-30 00:00:00\n",
      "BacktestHSI1401- From:2013-12-31 00:00:00 To:2014-01-29 00:00:00\n",
      "BacktestHSI1402- From:2014-01-30 00:00:00 To:2014-02-27 00:00:00\n",
      "BacktestHSI1403- From:2014-02-28 00:00:00 To:2014-03-28 00:00:00\n",
      "BacktestHSI1404- From:2014-03-31 00:00:00 To:2014-04-29 00:00:00\n",
      "BacktestHSI1405- From:2014-04-30 00:00:00 To:2014-05-29 00:00:00\n",
      "BacktestHSI1406- From:2014-05-30 00:00:00 To:2014-06-27 00:00:00\n",
      "BacktestHSI1407- From:2014-06-30 00:00:00 To:2014-07-30 00:00:00\n",
      "BacktestHSI1408- From:2014-07-31 00:00:00 To:2014-08-28 00:00:00\n",
      "BacktestHSI1409- From:2014-08-29 00:00:00 To:2014-09-29 00:00:00\n",
      "BacktestHSI1410- From:2014-09-30 00:00:00 To:2014-10-30 00:00:00\n",
      "BacktestHSI1411- From:2014-10-31 00:00:00 To:2014-11-27 00:00:00\n",
      "BacktestHSI1412- From:2014-11-28 00:00:00 To:2014-12-30 00:00:00\n",
      "BacktestHSI1501- From:2014-12-31 00:00:00 To:2015-01-29 00:00:00\n",
      "BacktestHSI1502- From:2015-01-30 00:00:00 To:2015-02-26 00:00:00\n",
      "BacktestHSI1503- From:2015-02-27 00:00:00 To:2015-03-30 00:00:00\n",
      "BacktestHSI1504- From:2015-03-31 00:00:00 To:2015-04-29 00:00:00\n",
      "BacktestHSI1505- From:2015-04-30 00:00:00 To:2015-05-28 00:00:00\n",
      "BacktestHSI1506- From:2015-05-29 00:00:00 To:2015-06-29 00:00:00\n",
      "BacktestHSI1507- From:2015-06-30 00:00:00 To:2015-07-30 00:00:00\n",
      "BacktestHSI1508- From:2015-07-31 00:00:00 To:2015-08-28 00:00:00\n",
      "BacktestHSI1509- From:2015-08-31 00:00:00 To:2015-09-29 00:00:00\n",
      "BacktestHSI1510- From:2015-09-30 00:00:00 To:2015-10-29 00:00:00\n",
      "BacktestHSI1511- From:2015-10-30 00:00:00 To:2015-11-27 00:00:00\n",
      "BacktestHSI1512- From:2015-11-30 00:00:00 To:2015-12-30 00:00:00\n",
      "BacktestHSI1601- From:2015-12-31 00:00:00 To:2016-01-28 00:00:00\n",
      "BacktestHSI1602- From:2016-01-29 00:00:00 To:2016-02-26 00:00:00\n",
      "BacktestHSI1603- From:2016-02-29 00:00:00 To:2016-03-30 00:00:00\n",
      "BacktestHSI1604- From:2016-03-31 00:00:00 To:2016-04-28 00:00:00\n",
      "BacktestHSI1605- From:2016-04-29 00:00:00 To:2016-05-30 00:00:00\n",
      "BacktestHSI1606- From:2016-05-31 00:00:00 To:2016-06-29 00:00:00\n",
      "BacktestHSI1607- From:2016-06-30 00:00:00 To:2016-07-28 00:00:00\n",
      "BacktestHSI1608- From:2016-07-29 00:00:00 To:2016-08-30 00:00:00\n",
      "BacktestHSI1609- From:2016-08-31 00:00:00 To:2016-09-29 00:00:00\n",
      "BacktestHSI1610- From:2016-09-30 00:00:00 To:2016-10-28 00:00:00\n",
      "BacktestHSI1611- From:2016-10-31 00:00:00 To:2016-11-29 00:00:00\n",
      "BacktestHSI1612- From:2016-11-30 00:00:00 To:2016-12-29 00:00:00\n",
      "BacktestHSI1701- From:2016-12-30 00:00:00 To:2017-01-26 00:00:00\n",
      "BacktestHSI1702- From:2017-01-27 00:00:00 To:2017-02-27 00:00:00\n",
      "BacktestHSI1703- From:2017-02-28 00:00:00 To:2017-03-30 00:00:00\n",
      "BacktestHSI1704- From:2017-03-31 00:00:00 To:2017-04-27 00:00:00\n",
      "BacktestHSI1705- From:2017-04-28 00:00:00 To:2017-05-29 00:00:00\n",
      "BacktestHSI1706- From:2017-05-31 00:00:00 To:2017-06-29 00:00:00\n",
      "BacktestHSI1707- From:2017-06-30 00:00:00 To:2017-07-28 00:00:00\n",
      "BacktestHSI1708- From:2017-07-31 00:00:00 To:2017-08-30 00:00:00\n",
      "BacktestHSI1709- From:2017-08-31 00:00:00 To:2017-09-28 00:00:00\n",
      "BacktestHSI1710- From:2017-09-29 00:00:00 To:2017-10-30 00:00:00\n",
      "BacktestHSI1711- From:2017-10-31 00:00:00 To:2017-11-29 00:00:00\n",
      "BacktestHSI1712- From:2017-11-30 00:00:00 To:2017-12-28 00:00:00\n",
      "BacktestHSI1801- From:2017-12-29 00:00:00 To:2018-01-30 00:00:00\n",
      "BacktestHSI1802- From:2018-01-31 00:00:00 To:2018-02-27 00:00:00\n",
      "BacktestHSI1803- From:2018-02-28 00:00:00 To:2018-03-28 00:00:00\n",
      "BacktestHSI1804- From:2018-03-29 00:00:00 To:2018-04-27 00:00:00\n",
      "BacktestHSI1805- From:2018-04-30 00:00:00 To:2018-05-30 00:00:00\n",
      "BacktestHSI1806- From:2018-05-31 00:00:00 To:2018-06-28 00:00:00\n",
      "BacktestHSI1807- From:2018-06-29 00:00:00 To:2018-07-30 00:00:00\n",
      "BacktestHSI1808- From:2018-07-31 00:00:00 To:2018-08-30 00:00:00\n",
      "BacktestHSI1809- From:2018-08-31 00:00:00 To:2018-09-27 00:00:00\n",
      "BacktestHSI1810- From:2018-09-28 00:00:00 To:2018-10-30 00:00:00\n",
      "BacktestHSI1811- From:2018-10-31 00:00:00 To:2018-11-29 00:00:00\n",
      "BacktestHSI1812- From:2018-11-30 00:00:00 To:2018-12-28 00:00:00\n",
      "BacktestHSI1901- From:2018-12-31 00:00:00 To:2019-01-30 00:00:00\n",
      "BacktestHSI1902- From:2019-01-31 00:00:00 To:2019-02-27 00:00:00\n",
      "BacktestHSI1903- From:2019-02-28 00:00:00 To:2019-03-28 00:00:00\n",
      "BacktestHSI1904- From:2019-03-29 00:00:00 To:2019-04-01 00:00:00\n"
     ]
    }
   ],
   "source": [
    "trade_results_after_optimized = []\n",
    "for code, tds in trade_dates.items():\n",
    "    print(f'Backtest{code}- From:{tds[0]} To:{tds[-1]}')\n",
    "    s = tds[0]\n",
    "    e = tds[-1]\n",
    "    df = hf.get_bars(code, fields=['datetime', 'open', 'high', 'low', 'close', 'trade_date'], start=s, end=e)\n",
    "    df['std_5'] = talib.STDDEV(df['close'].values, timeperiod=5)\n",
    "#     df['std_5'] = 0\n",
    "    df['std_60'] = talib.STDDEV(df['close'].values, timeperiod=60)\n",
    "    df['last_close'] = df['close'].shift(1)\n",
    "    trade_result = df.groupby('trade_date').apply(HLStrategy_after_optimized)\n",
    "    trade_results_after_optimized.append(trade_result)"
   ]
  },
  {
   "cell_type": "code",
   "execution_count": 80,
   "metadata": {
    "ExecuteTime": {
     "end_time": "2019-05-28T05:55:51.668573Z",
     "start_time": "2019-05-28T05:55:51.661563Z"
    },
    "collapsed": true
   },
   "outputs": [],
   "source": [
    "trade_results_after_optimized = pd.concat(trade_results_after_optimized)"
   ]
  },
  {
   "cell_type": "code",
   "execution_count": 81,
   "metadata": {
    "ExecuteTime": {
     "end_time": "2019-05-28T05:56:29.231672Z",
     "start_time": "2019-05-28T05:56:29.220674Z"
    },
    "collapsed": true
   },
   "outputs": [],
   "source": [
    "total_pnl = 0\n",
    "total_count = 0\n",
    "lost_pnl = 0\n",
    "lost_count = 0\n",
    "gain_pnl = 0\n",
    "gain_count = 0\n",
    "pnl_list = []\n",
    "for d, r in trade_results_after_optimized.items():\n",
    "    if r[0] and r[1]:\n",
    "        _open = -r[0][2] if r[0][1] == 'Long' else r[0][2]\n",
    "        _close = -r[1][2] if r[1][1] == 'Long' else r[1][2]\n",
    "        pnl = _close + _open\n",
    "        pnl_list.append([d, pnl, r[2], r[3], r[4], r[7]])\n",
    "        if pnl <0:\n",
    "            lost_pnl += pnl\n",
    "            lost_count += 1\n",
    "        else:\n",
    "            gain_pnl += pnl\n",
    "            gain_count += 1\n",
    "total_pnl = gain_pnl + lost_pnl\n",
    "total_count = gain_count + lost_count"
   ]
  },
  {
   "cell_type": "code",
   "execution_count": 82,
   "metadata": {
    "ExecuteTime": {
     "end_time": "2019-05-28T05:56:51.441388Z",
     "start_time": "2019-05-28T05:56:51.436385Z"
    }
   },
   "outputs": [
    {
     "name": "stdout",
     "output_type": "stream",
     "text": [
      "胜率：0.4253265190232822 盈亏比：1.8766789163660909\n"
     ]
    }
   ],
   "source": [
    "win_rate = gain_count /total_count\n",
    "pnl_rate = abs((gain_pnl/gain_count)/(lost_pnl/lost_count))\n",
    "print(f'胜率：{win_rate} 盈亏比：{pnl_rate}')"
   ]
  },
  {
   "cell_type": "code",
   "execution_count": 83,
   "metadata": {
    "ExecuteTime": {
     "end_time": "2019-05-28T05:56:54.459806Z",
     "start_time": "2019-05-28T05:56:54.453805Z"
    }
   },
   "outputs": [
    {
     "data": {
      "text/plain": [
       "9.843838727995458"
      ]
     },
     "execution_count": 83,
     "metadata": {},
     "output_type": "execute_result"
    }
   ],
   "source": [
    "total_pnl/total_count"
   ]
  },
  {
   "cell_type": "code",
   "execution_count": 86,
   "metadata": {
    "ExecuteTime": {
     "end_time": "2019-05-28T06:08:40.769626Z",
     "start_time": "2019-05-28T06:08:40.751125Z"
    }
   },
   "outputs": [
    {
     "ename": "NameError",
     "evalue": "name 'trade_results_df' is not defined",
     "output_type": "error",
     "traceback": [
      "\u001b[1;31m---------------------------------------------------------------------------\u001b[0m",
      "\u001b[1;31mNameError\u001b[0m                                 Traceback (most recent call last)",
      "\u001b[1;32m<ipython-input-86-79bf4c8b7f24>\u001b[0m in \u001b[0;36m<module>\u001b[1;34m\u001b[0m\n\u001b[1;32m----> 1\u001b[1;33m \u001b[0mlen\u001b[0m\u001b[1;33m(\u001b[0m\u001b[0mtrade_results_df\u001b[0m\u001b[1;33m)\u001b[0m\u001b[1;33m\u001b[0m\u001b[0m\n\u001b[0m",
      "\u001b[1;31mNameError\u001b[0m: name 'trade_results_df' is not defined"
     ]
    }
   ],
   "source": [
    "len(trade_results_df)"
   ]
  },
  {
   "cell_type": "code",
   "execution_count": 87,
   "metadata": {
    "ExecuteTime": {
     "end_time": "2019-05-28T06:09:00.647868Z",
     "start_time": "2019-05-28T06:09:00.624360Z"
    }
   },
   "outputs": [
    {
     "data": {
      "text/plain": [
       "trade_date\n",
       "2011-01-03    ([2011-01-03 10:53:00, Long, 23360.0], [2011-0...\n",
       "2011-01-04    ([2011-01-04 11:01:00, Long, 23557.0], [2011-0...\n",
       "2011-01-05    ([2011-01-05 15:12:00, Long, 23731.0], [2011-0...\n",
       "2011-01-06    ([2011-01-06 10:54:00, Short, 23726.0], [2011-...\n",
       "2011-01-07    ([2011-01-07 11:22:00, Long, 23854.0], [2011-0...\n",
       "2011-01-10    ([2011-01-10 14:30:00, Short, 23613.0], [2011-...\n",
       "2011-01-11    ([2011-01-11 11:25:00, Long, 23664.0], [2011-0...\n",
       "2011-01-12    ([2011-01-12 14:42:00, Long, 24000.0], [2011-0...\n",
       "2011-01-13    ([2011-01-13 11:17:00, Short, 24237.0], [2011-...\n",
       "2011-01-14    ([2011-01-14 11:06:00, Long, 24292.0], [2011-0...\n",
       "2011-01-17    ([2011-01-17 11:10:00, Short, 24194.0], [2011-...\n",
       "2011-01-18    ([2011-01-18 11:02:00, Long, 24300.0], [2011-0...\n",
       "2011-01-19    ([2011-01-19 10:52:00, Long, 24402.0], [2011-0...\n",
       "2011-01-20    ([2011-01-20 14:30:00, Short, 24045.0], [2011-...\n",
       "2011-01-21    ([2011-01-21 11:03:00, Long, 24085.0], [2011-0...\n",
       "2011-01-24    ([2011-01-24 11:46:00, Short, 23814.0], [2011-...\n",
       "2011-01-25    ([2011-01-25 10:53:00, Long, 24015.0], [2011-0...\n",
       "2011-01-26    ([2011-01-26 10:52:00, Short, 23799.0], [2011-...\n",
       "2011-01-27    ([2011-01-27 10:59:00, Long, 23978.0], [2011-0...\n",
       "2011-01-28    ([], [], HL, 22.0, 189.0, 3.0, 24.0, 58.238551...\n",
       "2011-01-31    ([2011-01-31 10:59:00, Long, 23376.0], [2011-0...\n",
       "2011-02-01    ([], [], LH, 82.0, 118.0, 28.0, 11.0, 27.09023...\n",
       "2011-02-02    ([2011-02-02 11:46:00, Long, 23884.0], [2011-0...\n",
       "2011-02-07    ([2011-02-07 10:55:00, Short, 23841.0], [2011-...\n",
       "2011-02-08    ([2011-02-08 12:05:00, Short, 23445.0], [2011-...\n",
       "2011-02-09    ([2011-02-09 14:30:00, Short, 23234.0], [2011-...\n",
       "2011-02-10    ([2011-02-10 14:54:00, Short, 22893.0], [2011-...\n",
       "2011-02-11    ([2011-02-11 11:51:00, Short, 22661.0], [2011-...\n",
       "2011-02-14    ([2011-02-14 11:25:00, Long, 23005.0], [2011-0...\n",
       "2011-02-15    ([2011-02-15 14:51:00, Short, 22917.0], [2011-...\n",
       "                                    ...                        \n",
       "2019-02-19    ([2019-02-19 13:00:00, Short, 28277.0], [2019-...\n",
       "2019-02-20    ([2019-02-20 10:29:00, Long, 28570.0], [2019-0...\n",
       "2019-02-21    ([2019-02-21 10:50:00, Long, 28601.0], [2019-0...\n",
       "2019-02-22    ([2019-02-22 11:11:00, Long, 28582.0], [2019-0...\n",
       "2019-02-25    ([2019-02-25 10:40:00, Short, 28805.0], [2019-...\n",
       "2019-02-26    ([2019-02-26 10:35:00, Short, 28802.0], [2019-...\n",
       "2019-02-27    ([2019-02-27 11:11:00, Long, 28928.0], [2019-0...\n",
       "2019-02-28    ([2019-02-28 10:45:00, Long, 28903.0], [2019-0...\n",
       "2019-03-01    ([2019-03-01 10:43:00, Long, 28760.0], [2019-0...\n",
       "2019-03-04    ([2019-03-04 10:27:00, Long, 28833.0], [2019-0...\n",
       "2019-03-05    ([2019-03-05 10:36:00, Long, 28812.0], [2019-0...\n",
       "2019-03-06    ([2019-03-06 10:39:00, Long, 29071.0], [2019-0...\n",
       "2019-03-07    ([2019-03-07 11:05:00, Short, 28822.0], [2019-...\n",
       "2019-03-08    ([2019-03-08 10:26:00, Long, 28426.0], [2019-0...\n",
       "2019-03-11    ([2019-03-11 10:56:00, Long, 28349.0], [2019-0...\n",
       "2019-03-12    ([2019-03-12 10:24:00, Long, 28857.0], [2019-0...\n",
       "2019-03-13    ([2019-03-13 10:24:00, Short, 28746.0], [2019-...\n",
       "2019-03-14    ([2019-03-14 11:27:00, Short, 28818.0], [2019-...\n",
       "2019-03-15    ([2019-03-15 10:27:00, Long, 29047.0], [2019-0...\n",
       "2019-03-18    ([2019-03-18 10:27:00, Long, 29198.0], [2019-0...\n",
       "2019-03-19    ([2019-03-19 11:33:00, Short, 29377.0], [2019-...\n",
       "2019-03-20    ([2019-03-20 10:52:00, Long, 29399.0], [2019-0...\n",
       "2019-03-21    ([2019-03-21 10:37:00, Long, 29472.0], [2019-0...\n",
       "2019-03-22    ([2019-03-22 10:30:00, Short, 29085.0], [2019-...\n",
       "2019-03-25    ([2019-03-25 10:33:00, Long, 28670.0], [2019-0...\n",
       "2019-03-26    ([2019-03-26 11:02:00, Short, 28572.0], [2019-...\n",
       "2019-03-27    ([2019-03-27 10:32:00, Long, 28686.0], [2019-0...\n",
       "2019-03-28    ([2019-03-28 10:22:00, Long, 28688.0], [2019-0...\n",
       "2019-03-29    ([2019-03-29 10:22:00, Long, 28942.0], [2019-0...\n",
       "2019-04-01    ([2019-04-01 10:30:00, Long, 29620.0], [2019-0...\n",
       "Length: 2031, dtype: object"
      ]
     },
     "execution_count": 87,
     "metadata": {},
     "output_type": "execute_result"
    }
   ],
   "source": []
  },
  {
   "cell_type": "code",
   "execution_count": null,
   "metadata": {
    "collapsed": true
   },
   "outputs": [],
   "source": []
  },
  {
   "cell_type": "code",
   "execution_count": null,
   "metadata": {
    "collapsed": true
   },
   "outputs": [],
   "source": []
  },
  {
   "cell_type": "code",
   "execution_count": null,
   "metadata": {
    "collapsed": true
   },
   "outputs": [],
   "source": []
  },
  {
   "cell_type": "code",
   "execution_count": null,
   "metadata": {
    "collapsed": true
   },
   "outputs": [],
   "source": []
  },
  {
   "cell_type": "code",
   "execution_count": null,
   "metadata": {
    "collapsed": true
   },
   "outputs": [],
   "source": []
  },
  {
   "cell_type": "code",
   "execution_count": null,
   "metadata": {
    "collapsed": true
   },
   "outputs": [],
   "source": []
  },
  {
   "cell_type": "code",
   "execution_count": 24,
   "metadata": {
    "ExecuteTime": {
     "end_time": "2019-05-27T05:53:17.998115Z",
     "start_time": "2019-05-27T05:53:17.994112Z"
    },
    "collapsed": true
   },
   "outputs": [],
   "source": [
    "t=total_results.str[0]"
   ]
  },
  {
   "cell_type": "code",
   "execution_count": 28,
   "metadata": {
    "ExecuteTime": {
     "end_time": "2019-05-27T05:54:25.436135Z",
     "start_time": "2019-05-27T05:54:25.432128Z"
    },
    "collapsed": true
   },
   "outputs": [],
   "source": [
    "total_results = total_results[t.apply(lambda s: s!=[])]"
   ]
  },
  {
   "cell_type": "code",
   "execution_count": 48,
   "metadata": {
    "ExecuteTime": {
     "end_time": "2019-05-27T06:04:43.584065Z",
     "start_time": "2019-05-27T06:04:43.581064Z"
    },
    "collapsed": true
   },
   "outputs": [],
   "source": [
    "def calc_pnl(v):\n",
    "    if v[0][1]=='Long':\n",
    "        return v[1][2] - v[0][2]\n",
    "    else:\n",
    "        return v[0][2] - v[1][2]"
   ]
  },
  {
   "cell_type": "code",
   "execution_count": 49,
   "metadata": {
    "ExecuteTime": {
     "end_time": "2019-05-27T06:04:46.306066Z",
     "start_time": "2019-05-27T06:04:46.299065Z"
    },
    "collapsed": true
   },
   "outputs": [],
   "source": [
    "total_results_df = pd.DataFrame({'_openH': total_results.str[3], '_range':  total_results.str[4], \n",
    "                                 '_ht':  total_results.str[5], '_lt':  total_results.str[6], \n",
    "                                 '_std':  total_results.str[7]})"
   ]
  },
  {
   "cell_type": "code",
   "execution_count": 50,
   "metadata": {
    "ExecuteTime": {
     "end_time": "2019-05-27T06:04:48.183066Z",
     "start_time": "2019-05-27T06:04:48.179065Z"
    },
    "collapsed": true
   },
   "outputs": [],
   "source": [
    "total_results_df['pnl'] = total_results.apply(calc_pnl)"
   ]
  },
  {
   "cell_type": "code",
   "execution_count": 52,
   "metadata": {
    "ExecuteTime": {
     "end_time": "2019-05-27T06:04:59.960071Z",
     "start_time": "2019-05-27T06:04:59.956070Z"
    },
    "collapsed": true
   },
   "outputs": [],
   "source": [
    "total_results_df = total_results_df[-total_results_df._openH.isnull()]"
   ]
  },
  {
   "cell_type": "code",
   "execution_count": 54,
   "metadata": {
    "ExecuteTime": {
     "end_time": "2019-05-27T06:06:02.847688Z",
     "start_time": "2019-05-27T06:06:02.440690Z"
    },
    "collapsed": true
   },
   "outputs": [],
   "source": [
    "total_results_df.to_excel('hl_result.xlsx')"
   ]
  },
  {
   "cell_type": "code",
   "execution_count": 45,
   "metadata": {
    "ExecuteTime": {
     "end_time": "2019-05-27T06:03:01.472044Z",
     "start_time": "2019-05-27T06:03:01.459036Z"
    }
   },
   "outputs": [
    {
     "data": {
      "text/plain": [
       "trade_date\n",
       "2011-01-03     20.0\n",
       "2011-01-04    113.0\n",
       "2011-01-05     23.0\n",
       "2011-01-06    -51.0\n",
       "2011-01-07      2.0\n",
       "2011-01-10     96.0\n",
       "2011-01-11    107.0\n",
       "2011-01-12    223.0\n",
       "2011-01-13    -65.0\n",
       "2011-01-14     -2.0\n",
       "2011-01-17     10.0\n",
       "2011-01-18     45.0\n",
       "2011-01-19    -23.0\n",
       "2011-01-20      4.0\n",
       "2011-01-21    -22.0\n",
       "2011-01-24      3.0\n",
       "2011-01-25    -46.0\n",
       "2011-01-26    103.0\n",
       "2011-01-27    -62.0\n",
       "2011-01-31    -30.0\n",
       "2011-02-02     71.0\n",
       "2011-02-07     43.0\n",
       "2011-02-08     11.0\n",
       "2011-02-09    161.0\n",
       "2011-02-10    183.0\n",
       "2011-02-11      9.0\n",
       "2011-02-14     31.0\n",
       "2011-02-15     -7.0\n",
       "2011-02-16    -29.0\n",
       "2011-02-17    -15.0\n",
       "              ...  \n",
       "2019-02-19     26.0\n",
       "2019-02-20    -83.0\n",
       "2019-02-21     75.0\n",
       "2019-02-22    224.0\n",
       "2019-02-25    -41.0\n",
       "2019-02-26    -23.0\n",
       "2019-02-27    -36.0\n",
       "2019-02-28   -118.0\n",
       "2019-03-01     26.0\n",
       "2019-03-04    334.0\n",
       "2019-03-05     68.0\n",
       "2019-03-06   -107.0\n",
       "2019-03-07    -74.0\n",
       "2019-03-08     15.0\n",
       "2019-03-11     39.0\n",
       "2019-03-12     38.0\n",
       "2019-03-13    -74.0\n",
       "2019-03-14     35.0\n",
       "2019-03-15     78.0\n",
       "2019-03-18     33.0\n",
       "2019-03-19    -17.0\n",
       "2019-03-20    -18.0\n",
       "2019-03-21    -61.0\n",
       "2019-03-22    165.0\n",
       "2019-03-25    -97.0\n",
       "2019-03-26     92.0\n",
       "2019-03-27    -14.0\n",
       "2019-03-28      2.0\n",
       "2019-03-29    159.0\n",
       "2019-04-01    -37.0\n",
       "Length: 1872, dtype: float64"
      ]
     },
     "execution_count": 45,
     "metadata": {},
     "output_type": "execute_result"
    }
   ],
   "source": [
    "total_results_df['pnl'] = total_results.apply(calc_pnl)"
   ]
  }
 ],
 "metadata": {
  "kernelspec": {
   "display_name": "Python 3",
   "language": "python",
   "name": "python3"
  },
  "language_info": {
   "codemirror_mode": {
    "name": "ipython",
    "version": 3
   },
   "file_extension": ".py",
   "mimetype": "text/x-python",
   "name": "python",
   "nbconvert_exporter": "python",
   "pygments_lexer": "ipython3",
   "version": "3.6.3"
  }
 },
 "nbformat": 4,
 "nbformat_minor": 2
}
