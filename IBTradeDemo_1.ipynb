{
 "cells": [
  {
   "cell_type": "code",
   "execution_count": null,
   "metadata": {
    "collapsed": true
   },
   "outputs": [],
   "source": [
    "!pip install git+https://github.com/hadrianl/KRData.git"
   ]
  },
  {
   "cell_type": "code",
   "execution_count": 1,
   "metadata": {
    "ExecuteTime": {
     "end_time": "2019-05-08T04:29:22.036658Z",
     "start_time": "2019-05-08T04:29:21.485629Z"
    },
    "collapsed": true
   },
   "outputs": [],
   "source": [
    "from KRData.IBData import IBTrade"
   ]
  },
  {
   "cell_type": "code",
   "execution_count": 2,
   "metadata": {
    "ExecuteTime": {
     "end_time": "2019-05-08T04:29:22.666628Z",
     "start_time": "2019-05-08T04:29:22.541628Z"
    },
    "collapsed": true
   },
   "outputs": [],
   "source": [
    "# it = IBTrade()  #  不填账号的情况下会获取所有交易记录\n",
    "it = IBTrade('U10108535')  \n",
    "it.connectDB('KRdata', 'f4615f68-ff8efbf0-5874824e-e1bd1') # 连接数据库\n",
    "it.connectIB('192.168.2.226', 4001, 0)"
   ]
  },
  {
   "cell_type": "code",
   "execution_count": null,
   "metadata": {
    "collapsed": true
   },
   "outputs": [],
   "source": [
    "it.save_fill_from_IB()  # 连接到哪个IB就保存哪个IB的数据"
   ]
  },
  {
   "cell_type": "code",
   "execution_count": 3,
   "metadata": {
    "ExecuteTime": {
     "end_time": "2019-05-08T04:29:23.466629Z",
     "start_time": "2019-05-08T04:29:23.453630Z"
    }
   },
   "outputs": [
    {
     "name": "stdout",
     "output_type": "stream",
     "text": [
      "交易数据库的映射-><class 'KRData.IBData.IBFill'>\n",
      "数据库交易数据的映射->[<IBFill: IBFill object>, <IBFill: IBFill object>]\n"
     ]
    }
   ],
   "source": [
    "print(f\"交易数据库的映射->{it.IBFill}\") #数据库映射\n",
    "print(f\"数据库交易数据的映射->{it._objects}\") #数据库映射"
   ]
  },
  {
   "cell_type": "code",
   "execution_count": 11,
   "metadata": {
    "ExecuteTime": {
     "end_time": "2019-05-08T04:33:22.382029Z",
     "start_time": "2019-05-08T04:33:22.343031Z"
    }
   },
   "outputs": [
    {
     "name": "stdout",
     "output_type": "stream",
     "text": [
      "[<IBFill: IBFill object>, <IBFill: IBFill object>]\n",
      "[<IBFill: IBFill object>, <IBFill: IBFill object>]\n",
      "[<IBFill: IBFill object>, <IBFill: IBFill object>]\n",
      "[<IBFill: IBFill object>, <IBFill: IBFill object>]\n",
      "2\n",
      "2019-05-08 02:23:01 HSIK9 28864.0 1.0 BOT\n",
      "2019-05-08 03:00:01 HSIK9 28901.0 1.0 SLD\n"
     ]
    },
    {
     "data": {
      "text/html": [
       "<div>\n",
       "<style>\n",
       "    .dataframe thead tr:only-child th {\n",
       "        text-align: right;\n",
       "    }\n",
       "\n",
       "    .dataframe thead th {\n",
       "        text-align: left;\n",
       "    }\n",
       "\n",
       "    .dataframe tbody tr th {\n",
       "        vertical-align: top;\n",
       "    }\n",
       "</style>\n",
       "<table border=\"1\" class=\"dataframe\">\n",
       "  <thead>\n",
       "    <tr style=\"text-align: right;\">\n",
       "      <th></th>\n",
       "      <th>datetime</th>\n",
       "      <th>localSymbol</th>\n",
       "      <th>expiry</th>\n",
       "      <th>execId</th>\n",
       "      <th>permId</th>\n",
       "      <th>clientId</th>\n",
       "      <th>account</th>\n",
       "      <th>side</th>\n",
       "      <th>vol</th>\n",
       "      <th>price</th>\n",
       "      <th>orderRef</th>\n",
       "      <th>commission</th>\n",
       "      <th>currency</th>\n",
       "    </tr>\n",
       "    <tr>\n",
       "      <th>datetime</th>\n",
       "      <th></th>\n",
       "      <th></th>\n",
       "      <th></th>\n",
       "      <th></th>\n",
       "      <th></th>\n",
       "      <th></th>\n",
       "      <th></th>\n",
       "      <th></th>\n",
       "      <th></th>\n",
       "      <th></th>\n",
       "      <th></th>\n",
       "      <th></th>\n",
       "      <th></th>\n",
       "    </tr>\n",
       "  </thead>\n",
       "  <tbody>\n",
       "    <tr>\n",
       "      <th>2019-05-08 02:23:01</th>\n",
       "      <td>2019-05-08 02:23:01</td>\n",
       "      <td>HSIK9</td>\n",
       "      <td>20190530</td>\n",
       "      <td>00016952.5cd22726.01.01</td>\n",
       "      <td>955307274</td>\n",
       "      <td>1</td>\n",
       "      <td>U10108535</td>\n",
       "      <td>BOT</td>\n",
       "      <td>1.0</td>\n",
       "      <td>28864.0</td>\n",
       "      <td>HLStrategy-Long</td>\n",
       "      <td>19.04</td>\n",
       "      <td>HKD</td>\n",
       "    </tr>\n",
       "    <tr>\n",
       "      <th>2019-05-08 03:00:01</th>\n",
       "      <td>2019-05-08 03:00:01</td>\n",
       "      <td>HSIK9</td>\n",
       "      <td>20190530</td>\n",
       "      <td>00016952.5cd22f57.01.01</td>\n",
       "      <td>955307275</td>\n",
       "      <td>1</td>\n",
       "      <td>U10108535</td>\n",
       "      <td>SLD</td>\n",
       "      <td>1.0</td>\n",
       "      <td>28901.0</td>\n",
       "      <td>HLStrategy-LongTrailstop</td>\n",
       "      <td>19.04</td>\n",
       "      <td>HKD</td>\n",
       "    </tr>\n",
       "  </tbody>\n",
       "</table>\n",
       "</div>"
      ],
      "text/plain": [
       "                               datetime localSymbol    expiry  \\\n",
       "datetime                                                        \n",
       "2019-05-08 02:23:01 2019-05-08 02:23:01       HSIK9  20190530   \n",
       "2019-05-08 03:00:01 2019-05-08 03:00:01       HSIK9  20190530   \n",
       "\n",
       "                                      execId     permId  clientId    account  \\\n",
       "datetime                                                                       \n",
       "2019-05-08 02:23:01  00016952.5cd22726.01.01  955307274         1  U10108535   \n",
       "2019-05-08 03:00:01  00016952.5cd22f57.01.01  955307275         1  U10108535   \n",
       "\n",
       "                    side  vol    price                  orderRef  commission  \\\n",
       "datetime                                                                       \n",
       "2019-05-08 02:23:01  BOT  1.0  28864.0           HLStrategy-Long       19.04   \n",
       "2019-05-08 03:00:01  SLD  1.0  28901.0  HLStrategy-LongTrailstop       19.04   \n",
       "\n",
       "                    currency  \n",
       "datetime                      \n",
       "2019-05-08 02:23:01      HKD  \n",
       "2019-05-08 03:00:01      HKD  "
      ]
     },
     "execution_count": 11,
     "metadata": {},
     "output_type": "execute_result"
    }
   ],
   "source": [
    "#多种索引方法\n",
    "print(it['HSI1905'])\n",
    "print(it['HSIK9'])\n",
    "print(it['20190507':'20190509'])\n",
    "print(it['20190507':'20190509':'HSI1905'])\n",
    "print(it[:].count())\n",
    "for d in it[:]:\n",
    "    print(d.time, d.contract.localSymbol, d.execution.price, d.execution.shares, d.execution.side)\n",
    "it.to_df(it[:])"
   ]
  },
  {
   "cell_type": "code",
   "execution_count": 12,
   "metadata": {
    "ExecuteTime": {
     "end_time": "2019-05-08T04:33:51.477935Z",
     "start_time": "2019-05-08T04:33:51.470934Z"
    }
   },
   "outputs": [
    {
     "name": "stdout",
     "output_type": "stream",
     "text": [
      "2019-05-08 03:00:01 HSIK9 28901.0 1.0\n",
      "2019-05-08 02:23:01 HSIK9 28864.0 1.0\n"
     ]
    }
   ],
   "source": [
    "import datetime as dt\n",
    "data = it._objects(time__gte=dt.datetime(2019, 5, 7), time__lte=dt.datetime(2019,5,10))  # 原始映射获取数据\n",
    "for d in data:\n",
    "    print(d.time, d.contract.localSymbol, d.execution.price, d.execution.shares)"
   ]
  },
  {
   "cell_type": "code",
   "execution_count": 3,
   "metadata": {},
   "outputs": [
    {
     "name": "stderr",
     "output_type": "stream",
     "text": [
      "Error 321, reqId 4: ÑéÖ¤ÒªÇó³öÏÖ´íÎó:-'bf' :µ¼ÖÂ- ×éÃû³Æ²»ÄÜÎª¿Õ\n"
     ]
    },
    {
     "data": {
      "text/plain": [
       "[<IBFill: IBFill object>,\n",
       " <IBFill: IBFill object>,\n",
       " <IBFill: IBFill object>,\n",
       " <IBFill: IBFill object>]"
      ]
     },
     "execution_count": 3,
     "metadata": {},
     "output_type": "execute_result"
    }
   ],
   "source": [
    "from KRData.IBData import IBTrade\n",
    "\n",
    "\n",
    "# it = IBTrade()  #  不填账号的情况下会获取所有交易记录\n",
    "it = IBTrade('U3023981')  \n",
    "it.connectDB('KRdata', 'f4615f68-ff8efbf0-5874824e-e1bd1') # 连接数据库\n",
    "# it.connectIB('192.168.2.226', 4001, 0)\n",
    "it.connectIB('127.0.0.1', 7496, 0)\n",
    "\n",
    "it.save_fill_from_IB()  # 连接到哪个IB就保存哪个IB的数据\n"
   ]
  }
 ],
 "metadata": {
  "kernelspec": {
   "display_name": "Python 3",
   "language": "python",
   "name": "python3"
  },
  "language_info": {
   "codemirror_mode": {
    "name": "ipython",
    "version": 3
   },
   "file_extension": ".py",
   "mimetype": "text/x-python",
   "name": "python",
   "nbconvert_exporter": "python",
   "pygments_lexer": "ipython3",
   "version": "3.6.3"
  }
 },
 "nbformat": 4,
 "nbformat_minor": 2
}
