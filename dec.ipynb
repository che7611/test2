{
 "cells": [
  {
   "cell_type": "code",
   "execution_count": 11,
   "metadata": {},
   "outputs": [
    {
     "name": "stdout",
     "output_type": "stream",
     "text": [
      "now you are inside the hi() function\n",
      "now you are in the greet() function\n",
      "now you are in the welcome() function\n",
      "now you are back in the hi() function\n",
      "None\n"
     ]
    }
   ],
   "source": [
    "def hi(name=\"yasoob\"):\n",
    "    print(\"now you are inside the hi() function\")\n",
    " \n",
    "    def greet():\n",
    "        return \"now you are in the greet() function\"\n",
    " \n",
    "    def welcome():\n",
    "        return \"now you are in the welcome() function\"\n",
    " \n",
    "    print(greet())\n",
    "    print(welcome())\n",
    "    print(\"now you are back in the hi() function\")\n",
    " \n",
    "a = hi\n",
    "print(a())"
   ]
  },
  {
   "cell_type": "code",
   "execution_count": 13,
   "metadata": {},
   "outputs": [
    {
     "name": "stdout",
     "output_type": "stream",
     "text": [
      "I am the function which needs some decoration to remove my foul smell\n",
      "I am doing some boring work before executing a_func()\n",
      "I am the function which needs some decoration to remove my foul smell\n",
      "I am doing some boring work after executing a_func()\n"
     ]
    }
   ],
   "source": [
    "def a_new_decorator(a_func):\n",
    " \n",
    "    def wrapTheFunction():\n",
    "        print(\"I am doing some boring work before executing a_func()\")\n",
    " \n",
    "        a_func()\n",
    " \n",
    "        print(\"I am doing some boring work after executing a_func()\")\n",
    " \n",
    "    return wrapTheFunction\n",
    " \n",
    "def a_function_requiring_decoration():\n",
    "    print(\"I am the function which needs some decoration to remove my foul smell\")\n",
    " \n",
    "a_function_requiring_decoration()\n",
    "#outputs: \"I am the function which needs some decoration to remove my foul smell\"\n",
    " \n",
    "a_function_requiring_decoration = a_new_decorator(a_function_requiring_decoration)\n",
    "#now a_function_requiring_decoration is wrapped by wrapTheFunction()\n",
    " \n",
    "a_function_requiring_decoration()\n",
    "#outputs:I am doing some boring work before executing a_func()\n",
    "#        I am the function which needs some decoration to remove my foul smell\n",
    "#        I am doing some boring work after executing a_func()"
   ]
  },
  {
   "cell_type": "code",
   "execution_count": 5,
   "metadata": {},
   "outputs": [
    {
     "name": "stdout",
     "output_type": "stream",
     "text": [
      "a_function_requiring_decoration\n",
      "I am doing some boring work before executing a_func()\n",
      "I am the function which needs some decoration to remove my foul smell\n",
      "I am doing some boring work after executing a_func()\n"
     ]
    }
   ],
   "source": [
    "from functools import wraps\n",
    " \n",
    "def a_new_decorator(a_func):\n",
    "    @wraps(a_func)\n",
    "    def wrapTheFunction():\n",
    "        print(\"I am doing some boring work before executing a_func()\")\n",
    "        a_func()\n",
    "        print(\"I am doing some boring work after executing a_func()\")\n",
    "    return wrapTheFunction\n",
    " \n",
    "@a_new_decorator\n",
    "def a_function_requiring_decoration():\n",
    "    \"\"\"Hey yo! Decorate me!\"\"\"\n",
    "    print(\"I am the function which needs some decoration to \"\n",
    "          \"remove my foul smell\")\n",
    " \n",
    "print(a_function_requiring_decoration.__name__)\n",
    "a_function_requiring_decoration()\n",
    "# Output: a_function_requiring_decoration"
   ]
  },
  {
   "cell_type": "code",
   "execution_count": 43,
   "metadata": {},
   "outputs": [
    {
     "name": "stdout",
     "output_type": "stream",
     "text": [
      "addition_func was called\n",
      "[1, 2, 3]\n",
      "[1, 2, 3, 1, 2, 3]\n"
     ]
    }
   ],
   "source": [
    "from functools import wraps\n",
    " \n",
    "def logit(func):\n",
    "#     @wraps(func)\n",
    "    def with_logging(*args):\n",
    "        print(func.__name__ + \" was called\")\n",
    "        print(*args)\n",
    "        print(func(*args))\n",
    "    return with_logging\n",
    "    \n",
    "    def test(*args):\n",
    "        print(\"x\")\n",
    "    return test\n",
    " \n",
    "@logit\n",
    "def addition_func(x):\n",
    "   \"\"\"Do some math.\"\"\"\n",
    "   return x + x\n",
    " \n",
    " \n",
    "# result = addition_func(4)\n",
    "addition_func([1,2,3])\n",
    "# Output: addition_func was called"
   ]
  },
  {
   "cell_type": "code",
   "execution_count": 83,
   "metadata": {},
   "outputs": [
    {
     "name": "stdout",
     "output_type": "stream",
     "text": [
      "in the test1\n",
      "the func run time  is 1.0000760555267334\n",
      "test2: Tom 22\n",
      "the func run time  is 0.0\n"
     ]
    }
   ],
   "source": [
    "#coding:UTF8\n",
    "\n",
    "import time\n",
    "def timer(func): #timer(test1)  func=test1\n",
    "    def deco(*args,**kwargs):\n",
    "        start_time=time.time()\n",
    "        func(*args,**kwargs)   #run test1()\n",
    "        stop_time = time.time()\n",
    "        print(\"the func run time  is %s\" %(stop_time-start_time))\n",
    "    return deco\n",
    "@timer  #test1=timer(test1)\n",
    "def test1():\n",
    "    time.sleep(1)\n",
    "    print('in the test1')\n",
    "\n",
    "@timer # test2 = timer(test2)  = deco  test2(name) =deco(name)\n",
    "def test2(name,age):\n",
    "    print(\"test2:\",name,age)\n",
    "\n",
    "test1()\n",
    "test2(\"Tom\",22)\n",
    "\n",
    "\n"
   ]
  },
  {
   "cell_type": "code",
   "execution_count": 86,
   "metadata": {},
   "outputs": [
    {
     "name": "stdout",
     "output_type": "stream",
     "text": [
      "auth func: local\n",
      "auth func: ldap\n",
      "welcome to index page\n",
      "\u001b[32;1mUser has passed authentication\u001b[0m\n",
      "welcome to home  page\n",
      "---after authenticaion \n",
      "from home\n",
      "搞毛线ldap,不会。。。。\n"
     ]
    }
   ],
   "source": [
    "#coding:utf8\n",
    "import time\n",
    "user,passwd = 'AA','BB'\n",
    "def auth(auth_type):\n",
    "    print(\"auth func:\",auth_type)\n",
    "    def outer_wrapper(func):\n",
    "        def wrapper(*args, **kwargs):\n",
    "            #print(\"wrapper func args:\", *args, **kwargs)\n",
    "            if auth_type == \"local\":\n",
    "                username = \"AA\"\n",
    "                password = \"BB\"\n",
    "                if user == username and passwd == password:\n",
    "                    print(\"\\033[32;1mUser has passed authentication\\033[0m\")\n",
    "                    res = func(*args, **kwargs)  # from home\n",
    "                    print(\"---after authenticaion \")\n",
    "                    return res\n",
    "                else:\n",
    "                    exit(\"\\033[31;1mInvalid username or password\\033[0m\")\n",
    "            elif auth_type == \"ldap\":\n",
    "                print(\"搞毛线ldap,不会。。。。\")\n",
    "\n",
    "        return wrapper\n",
    "    return outer_wrapper\n",
    "\n",
    "def index():\n",
    "    print(\"welcome to index page\")\n",
    "@auth(auth_type=\"local\") # home = wrapper()\n",
    "def home():\n",
    "    print(\"welcome to home  page\")\n",
    "    return \"from home\"\n",
    "\n",
    "@auth(auth_type=\"ldap\")\n",
    "def bbs():\n",
    "    print(\"welcome to bbs  page\")\n",
    "\n",
    "index()\n",
    "print(home()) #wrapper()\n",
    "bbs()"
   ]
  }
 ],
 "metadata": {
  "kernelspec": {
   "display_name": "Python 3",
   "language": "python",
   "name": "python3"
  },
  "language_info": {
   "codemirror_mode": {
    "name": "ipython",
    "version": 3
   },
   "file_extension": ".py",
   "mimetype": "text/x-python",
   "name": "python",
   "nbconvert_exporter": "python",
   "pygments_lexer": "ipython3",
   "version": "3.7.0"
  }
 },
 "nbformat": 4,
 "nbformat_minor": 2
}
